{
 "cells": [
  {
   "cell_type": "code",
   "execution_count": 1,
   "id": "a43b3111-c461-47f9-b38c-cf4784bc8ede",
   "metadata": {},
   "outputs": [
    {
     "name": "stderr",
     "output_type": "stream",
     "text": [
      "/home/sea2002/miniconda3/envs/tfgpu2/lib/python3.12/site-packages/torch/utils/_pytree.py:185: FutureWarning: optree is installed but the version is too old to support PyTorch Dynamo in C++ pytree. C++ pytree support is disabled. Please consider upgrading optree using `python3 -m pip install --upgrade 'optree>=0.13.0'`.\n",
      "  warnings.warn(\n",
      "/home/sea2002/miniconda3/envs/tfgpu2/lib/python3.12/site-packages/tqdm/auto.py:21: TqdmWarning: IProgress not found. Please update jupyter and ipywidgets. See https://ipywidgets.readthedocs.io/en/stable/user_install.html\n",
      "  from .autonotebook import tqdm as notebook_tqdm\n",
      "2025-03-24 17:08:51.815105: E external/local_xla/xla/stream_executor/cuda/cuda_fft.cc:467] Unable to register cuFFT factory: Attempting to register factory for plugin cuFFT when one has already been registered\n",
      "WARNING: All log messages before absl::InitializeLog() is called are written to STDERR\n",
      "E0000 00:00:1742850531.831986   18844 cuda_dnn.cc:8579] Unable to register cuDNN factory: Attempting to register factory for plugin cuDNN when one has already been registered\n",
      "E0000 00:00:1742850531.837608   18844 cuda_blas.cc:1407] Unable to register cuBLAS factory: Attempting to register factory for plugin cuBLAS when one has already been registered\n",
      "W0000 00:00:1742850531.850390   18844 computation_placer.cc:177] computation placer already registered. Please check linkage and avoid linking the same target more than once.\n",
      "W0000 00:00:1742850531.850411   18844 computation_placer.cc:177] computation placer already registered. Please check linkage and avoid linking the same target more than once.\n",
      "W0000 00:00:1742850531.850413   18844 computation_placer.cc:177] computation placer already registered. Please check linkage and avoid linking the same target more than once.\n",
      "W0000 00:00:1742850531.850414   18844 computation_placer.cc:177] computation placer already registered. Please check linkage and avoid linking the same target more than once.\n",
      "2025-03-24 17:08:51.854040: I tensorflow/core/platform/cpu_feature_guard.cc:210] This TensorFlow binary is optimized to use available CPU instructions in performance-critical operations.\n",
      "To enable the following instructions: AVX2 FMA, in other operations, rebuild TensorFlow with the appropriate compiler flags.\n"
     ]
    }
   ],
   "source": [
    "import pandas as pd\n",
    "import numpy as np\n",
    "from sentence_transformers import SentenceTransformer"
   ]
  },
  {
   "cell_type": "code",
   "execution_count": 2,
   "id": "810dc627-0f39-41c5-b89b-ef290ccbe2f9",
   "metadata": {},
   "outputs": [
    {
     "name": "stdout",
     "output_type": "stream",
     "text": [
      "<class 'pandas.core.frame.DataFrame'>\n",
      "RangeIndex: 530632 entries, 0 to 530631\n",
      "Data columns (total 8 columns):\n",
      " #   Column       Non-Null Count   Dtype  \n",
      "---  ------       --------------   -----  \n",
      " 0   InvoiceNo    530632 non-null  int64  \n",
      " 1   StockCode    530632 non-null  object \n",
      " 2   Description  530632 non-null  object \n",
      " 3   Quantity     530632 non-null  int64  \n",
      " 4   InvoiceDate  530632 non-null  object \n",
      " 5   UnitPrice    530632 non-null  float64\n",
      " 6   CustomerID   397527 non-null  float64\n",
      " 7   Country      530632 non-null  object \n",
      "dtypes: float64(2), int64(2), object(4)\n",
      "memory usage: 32.4+ MB\n"
     ]
    }
   ],
   "source": [
    "df = pd.read_csv('../data_versions/cleaned_1.csv')\n",
    "df.info()"
   ]
  },
  {
   "cell_type": "code",
   "execution_count": 3,
   "id": "9046ed49-d0fc-44d7-b915-c6fc6a6af33e",
   "metadata": {},
   "outputs": [],
   "source": [
    "df.Description = df.Description.astype('str')"
   ]
  },
  {
   "cell_type": "code",
   "execution_count": 4,
   "id": "e6210fe2-21c3-4c97-aa39-b19116ab9c37",
   "metadata": {},
   "outputs": [
    {
     "data": {
      "text/plain": [
       "array(['WHITE HANGING HEART T-LIGHT HOLDER', 'WHITE METAL LANTERN',\n",
       "       'CREAM CUPID HEARTS COAT HANGER',\n",
       "       'KNITTED UNION FLAG HOT WATER BOTTLE',\n",
       "       'RED WOOLLY HOTTIE WHITE HEART.'], dtype=object)"
      ]
     },
     "execution_count": 4,
     "metadata": {},
     "output_type": "execute_result"
    }
   ],
   "source": [
    "descriptions = pd.unique(df.Description)\n",
    "descriptions[:5]"
   ]
  },
  {
   "cell_type": "code",
   "execution_count": 5,
   "id": "8f308950-0c59-46c2-a8e8-341d6c5737de",
   "metadata": {},
   "outputs": [
    {
     "name": "stdout",
     "output_type": "stream",
     "text": [
      "Embeddings shape: (4014, 768)\n"
     ]
    }
   ],
   "source": [
    "# Load the pre-trained model \"all-mpnet-base-v2\"\n",
    "model = SentenceTransformer(\"all-mpnet-base-v2\")\n",
    "\n",
    "# Generate embeddings for the product descriptions\n",
    "embeddings = model.encode(descriptions)\n",
    "\n",
    "print(\"Embeddings shape:\", embeddings.shape)"
   ]
  },
  {
   "cell_type": "code",
   "execution_count": 6,
   "id": "522c3867-fdd0-4239-9971-1ca628897705",
   "metadata": {},
   "outputs": [],
   "source": [
    "embeddings_flattened = []\n",
    "for e in embeddings:\n",
    "    add = e.reshape(-1)\n",
    "    embeddings_flattened.append(add)"
   ]
  },
  {
   "cell_type": "code",
   "execution_count": 7,
   "id": "82c10821-3c73-4812-962e-141ce2ab5895",
   "metadata": {},
   "outputs": [
    {
     "data": {
      "text/html": [
       "<div>\n",
       "<style scoped>\n",
       "    .dataframe tbody tr th:only-of-type {\n",
       "        vertical-align: middle;\n",
       "    }\n",
       "\n",
       "    .dataframe tbody tr th {\n",
       "        vertical-align: top;\n",
       "    }\n",
       "\n",
       "    .dataframe thead th {\n",
       "        text-align: right;\n",
       "    }\n",
       "</style>\n",
       "<table border=\"1\" class=\"dataframe\">\n",
       "  <thead>\n",
       "    <tr style=\"text-align: right;\">\n",
       "      <th></th>\n",
       "      <th>Description</th>\n",
       "      <th>Embedding</th>\n",
       "    </tr>\n",
       "  </thead>\n",
       "  <tbody>\n",
       "    <tr>\n",
       "      <th>0</th>\n",
       "      <td>WHITE HANGING HEART T-LIGHT HOLDER</td>\n",
       "      <td>[0.07632847, -0.09431947, -0.014446766, 0.0328...</td>\n",
       "    </tr>\n",
       "    <tr>\n",
       "      <th>1</th>\n",
       "      <td>WHITE METAL LANTERN</td>\n",
       "      <td>[0.05321894, -0.036760114, 0.019860018, -0.031...</td>\n",
       "    </tr>\n",
       "    <tr>\n",
       "      <th>2</th>\n",
       "      <td>CREAM CUPID HEARTS COAT HANGER</td>\n",
       "      <td>[0.03787037, -0.05537594, -0.0069065997, 0.054...</td>\n",
       "    </tr>\n",
       "    <tr>\n",
       "      <th>3</th>\n",
       "      <td>KNITTED UNION FLAG HOT WATER BOTTLE</td>\n",
       "      <td>[-0.016273633, -0.0075765, -0.0060791695, 0.01...</td>\n",
       "    </tr>\n",
       "    <tr>\n",
       "      <th>4</th>\n",
       "      <td>RED WOOLLY HOTTIE WHITE HEART.</td>\n",
       "      <td>[-0.009205462, -0.007075419, 0.011407856, 0.01...</td>\n",
       "    </tr>\n",
       "  </tbody>\n",
       "</table>\n",
       "</div>"
      ],
      "text/plain": [
       "                           Description  \\\n",
       "0   WHITE HANGING HEART T-LIGHT HOLDER   \n",
       "1                  WHITE METAL LANTERN   \n",
       "2       CREAM CUPID HEARTS COAT HANGER   \n",
       "3  KNITTED UNION FLAG HOT WATER BOTTLE   \n",
       "4       RED WOOLLY HOTTIE WHITE HEART.   \n",
       "\n",
       "                                           Embedding  \n",
       "0  [0.07632847, -0.09431947, -0.014446766, 0.0328...  \n",
       "1  [0.05321894, -0.036760114, 0.019860018, -0.031...  \n",
       "2  [0.03787037, -0.05537594, -0.0069065997, 0.054...  \n",
       "3  [-0.016273633, -0.0075765, -0.0060791695, 0.01...  \n",
       "4  [-0.009205462, -0.007075419, 0.011407856, 0.01...  "
      ]
     },
     "execution_count": 7,
     "metadata": {},
     "output_type": "execute_result"
    }
   ],
   "source": [
    "embed_desc_key = pd.DataFrame(\n",
    "    {\n",
    "        \"Description\": descriptions,\n",
    "        \"Embedding\": embeddings_flattened\n",
    "    }\n",
    ")\n",
    "\n",
    "embed_desc_key.head()"
   ]
  },
  {
   "cell_type": "code",
   "execution_count": 8,
   "id": "8d93a6aa-53cc-40de-9fbf-b0c6ccaca97a",
   "metadata": {},
   "outputs": [
    {
     "name": "stdout",
     "output_type": "stream",
     "text": [
      "<class 'pandas.core.frame.DataFrame'>\n",
      "RangeIndex: 4014 entries, 0 to 4013\n",
      "Data columns (total 2 columns):\n",
      " #   Column       Non-Null Count  Dtype \n",
      "---  ------       --------------  ----- \n",
      " 0   Description  4014 non-null   object\n",
      " 1   Embedding    4014 non-null   object\n",
      "dtypes: object(2)\n",
      "memory usage: 62.8+ KB\n"
     ]
    }
   ],
   "source": [
    "embed_desc_key.info()"
   ]
  },
  {
   "cell_type": "code",
   "execution_count": 15,
   "id": "66ca2c01-e896-4f51-be44-fa4cecad71ca",
   "metadata": {},
   "outputs": [],
   "source": [
    "embed_desc_key.to_csv(\"../data_versions/embeddings.csv\", index=False)"
   ]
  }
 ],
 "metadata": {
  "kernelspec": {
   "display_name": "Python (tfgpu2)",
   "language": "python",
   "name": "tfgpu2"
  },
  "language_info": {
   "codemirror_mode": {
    "name": "ipython",
    "version": 3
   },
   "file_extension": ".py",
   "mimetype": "text/x-python",
   "name": "python",
   "nbconvert_exporter": "python",
   "pygments_lexer": "ipython3",
   "version": "3.12.8"
  }
 },
 "nbformat": 4,
 "nbformat_minor": 5
}
