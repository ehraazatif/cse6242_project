{
 "cells": [
  {
   "cell_type": "code",
   "execution_count": 7,
   "id": "5bc46e01-ff17-4b22-9b24-2ff6841486fb",
   "metadata": {},
   "outputs": [
    {
     "name": "stdout",
     "output_type": "stream",
     "text": [
      "/home/sea2002/miniconda3/envs/tfgpu2/lib/python3.12/site-packages\n"
     ]
    }
   ],
   "source": [
    "import pandas as pd\n",
    "import numpy as np\n",
    "import spacy\n",
    "import pytextrank"
   ]
  },
  {
   "cell_type": "code",
   "execution_count": 4,
   "id": "f7b50a73-8483-4f53-bd2b-c8dbde02172d",
   "metadata": {},
   "outputs": [
    {
     "data": {
      "text/html": [
       "<div>\n",
       "<style scoped>\n",
       "    .dataframe tbody tr th:only-of-type {\n",
       "        vertical-align: middle;\n",
       "    }\n",
       "\n",
       "    .dataframe tbody tr th {\n",
       "        vertical-align: top;\n",
       "    }\n",
       "\n",
       "    .dataframe thead th {\n",
       "        text-align: right;\n",
       "    }\n",
       "</style>\n",
       "<table border=\"1\" class=\"dataframe\">\n",
       "  <thead>\n",
       "    <tr style=\"text-align: right;\">\n",
       "      <th></th>\n",
       "      <th>Description</th>\n",
       "      <th>Cluster</th>\n",
       "    </tr>\n",
       "  </thead>\n",
       "  <tbody>\n",
       "    <tr>\n",
       "      <th>0</th>\n",
       "      <td>WHITE HANGING HEART T-LIGHT HOLDER</td>\n",
       "      <td>11</td>\n",
       "    </tr>\n",
       "    <tr>\n",
       "      <th>1</th>\n",
       "      <td>WHITE METAL LANTERN</td>\n",
       "      <td>12</td>\n",
       "    </tr>\n",
       "    <tr>\n",
       "      <th>2</th>\n",
       "      <td>CREAM CUPID HEARTS COAT HANGER</td>\n",
       "      <td>13</td>\n",
       "    </tr>\n",
       "    <tr>\n",
       "      <th>3</th>\n",
       "      <td>KNITTED UNION FLAG HOT WATER BOTTLE</td>\n",
       "      <td>1</td>\n",
       "    </tr>\n",
       "    <tr>\n",
       "      <th>4</th>\n",
       "      <td>RED WOOLLY HOTTIE WHITE HEART.</td>\n",
       "      <td>3</td>\n",
       "    </tr>\n",
       "  </tbody>\n",
       "</table>\n",
       "</div>"
      ],
      "text/plain": [
       "                           Description  Cluster\n",
       "0   WHITE HANGING HEART T-LIGHT HOLDER       11\n",
       "1                  WHITE METAL LANTERN       12\n",
       "2       CREAM CUPID HEARTS COAT HANGER       13\n",
       "3  KNITTED UNION FLAG HOT WATER BOTTLE        1\n",
       "4       RED WOOLLY HOTTIE WHITE HEART.        3"
      ]
     },
     "execution_count": 4,
     "metadata": {},
     "output_type": "execute_result"
    }
   ],
   "source": [
    "df = pd.read_csv('../data_versions/clusters.csv')\n",
    "df.head()"
   ]
  },
  {
   "cell_type": "code",
   "execution_count": 12,
   "id": "58e03a27-a3c1-4959-8dde-38ab8000c235",
   "metadata": {},
   "outputs": [
    {
     "data": {
      "text/html": [
       "<div>\n",
       "<style scoped>\n",
       "    .dataframe tbody tr th:only-of-type {\n",
       "        vertical-align: middle;\n",
       "    }\n",
       "\n",
       "    .dataframe tbody tr th {\n",
       "        vertical-align: top;\n",
       "    }\n",
       "\n",
       "    .dataframe thead th {\n",
       "        text-align: right;\n",
       "    }\n",
       "</style>\n",
       "<table border=\"1\" class=\"dataframe\">\n",
       "  <thead>\n",
       "    <tr style=\"text-align: right;\">\n",
       "      <th></th>\n",
       "      <th>Description</th>\n",
       "    </tr>\n",
       "    <tr>\n",
       "      <th>Cluster</th>\n",
       "      <th></th>\n",
       "    </tr>\n",
       "  </thead>\n",
       "  <tbody>\n",
       "    <tr>\n",
       "      <th>1</th>\n",
       "      <td>KNITTED UNION FLAG HOT WATER BOTTLE HAND WARME...</td>\n",
       "    </tr>\n",
       "    <tr>\n",
       "      <th>2</th>\n",
       "      <td>VINTAGE UNION JACK CUSHION COVER FELTCRAFT CUS...</td>\n",
       "    </tr>\n",
       "    <tr>\n",
       "      <th>3</th>\n",
       "      <td>RED WOOLLY HOTTIE WHITE HEART. FELTCRAFT PRINC...</td>\n",
       "    </tr>\n",
       "    <tr>\n",
       "      <th>4</th>\n",
       "      <td>ALARM CLOCK BAKELIKE PINK ALARM CLOCK BAKELIKE...</td>\n",
       "    </tr>\n",
       "    <tr>\n",
       "      <th>5</th>\n",
       "      <td>WOODEN PICTURE FRAME WHITE FINISH WOODEN FRAME...</td>\n",
       "    </tr>\n",
       "  </tbody>\n",
       "</table>\n",
       "</div>"
      ],
      "text/plain": [
       "                                               Description\n",
       "Cluster                                                   \n",
       "1        KNITTED UNION FLAG HOT WATER BOTTLE HAND WARME...\n",
       "2        VINTAGE UNION JACK CUSHION COVER FELTCRAFT CUS...\n",
       "3        RED WOOLLY HOTTIE WHITE HEART. FELTCRAFT PRINC...\n",
       "4        ALARM CLOCK BAKELIKE PINK ALARM CLOCK BAKELIKE...\n",
       "5        WOODEN PICTURE FRAME WHITE FINISH WOODEN FRAME..."
      ]
     },
     "execution_count": 12,
     "metadata": {},
     "output_type": "execute_result"
    }
   ],
   "source": [
    "# construct documents consisting of all products strings belonging to one cluster\n",
    "cluster_docs = df.groupby('Cluster').agg(lambda x: ' '.join(x))\n",
    "cluster_docs.head()"
   ]
  },
  {
   "cell_type": "code",
   "execution_count": null,
   "id": "68623dc5-3c9c-423f-b86c-1d51b28b3d96",
   "metadata": {},
   "outputs": [],
   "source": [
    "nlp = spacy.load(\"en_core_web_sm\")\n",
    "nlp.add_pipe(\"textrank\")\n",
    "\n",
    "top10_phrases_per_doc = [] # list will contain lists of top 10 rated text phrases for each cluster\n",
    "for i in range(cluster_docs.shape[0]):\n",
    "    doc = cluster_docs.iloc[i,0]\n",
    "    doc = nlp(doc)\n",
    "    to_add = []\n",
    "    for phrase in doc._.phrases[:10]:\n",
    "        phrase_rank = (phrase.text, phrase.rank)\n",
    "        to_add.append(phrase_rank)\n",
    "    top10_phrases_per_doc.append(to_add)"
   ]
  },
  {
   "cell_type": "code",
   "execution_count": 9,
   "id": "73777d1b-b9a4-4605-94ae-dd7b3e156d02",
   "metadata": {},
   "outputs": [
    {
     "name": "stdout",
     "output_type": "stream",
     "text": [
      "Natural language processing 0.24421292271470763\n",
      "language 0.1888398064462279\n",
      "AI 0.17465610505102555\n",
      "computers 0.16155549040928555\n",
      "humans 0.14704186462210642\n"
     ]
    }
   ],
   "source": [
    "nlp = spacy.load(\"en_core_web_sm\")\n",
    "nlp.add_pipe(\"textrank\")\n",
    "\n",
    "doc = nlp(\"Natural language processing is a field of AI that focuses on the interaction between computers and humans through language.\")\n",
    "print(len(doc._.phrases))\n",
    "# Extract key phrases\n",
    "for phrase in doc._.phrases[:5]:\n",
    "    print(phrase.text, phrase.rank)\n"
   ]
  }
 ],
 "metadata": {
  "kernelspec": {
   "display_name": "Python (tfgpu2)",
   "language": "python",
   "name": "tfgpu2"
  },
  "language_info": {
   "codemirror_mode": {
    "name": "ipython",
    "version": 3
   },
   "file_extension": ".py",
   "mimetype": "text/x-python",
   "name": "python",
   "nbconvert_exporter": "python",
   "pygments_lexer": "ipython3",
   "version": "3.12.8"
  }
 },
 "nbformat": 4,
 "nbformat_minor": 5
}
