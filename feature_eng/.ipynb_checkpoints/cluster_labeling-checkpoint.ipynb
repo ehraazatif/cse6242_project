{
 "cells": [
  {
   "cell_type": "code",
   "execution_count": 1,
   "id": "5bc46e01-ff17-4b22-9b24-2ff6841486fb",
   "metadata": {},
   "outputs": [],
   "source": [
    "import pandas as pd\n",
    "import numpy as np\n",
    "from nltk.corpus import stopwords\n",
    "import nltk\n",
    "\n",
    "nltk.download('stopwords')"
   ]
  },
  {
   "cell_type": "code",
   "execution_count": 2,
   "id": "f7b50a73-8483-4f53-bd2b-c8dbde02172d",
   "metadata": {},
   "outputs": [
    {
     "data": {
      "text/html": [
       "<div>\n",
       "<style scoped>\n",
       "    .dataframe tbody tr th:only-of-type {\n",
       "        vertical-align: middle;\n",
       "    }\n",
       "\n",
       "    .dataframe tbody tr th {\n",
       "        vertical-align: top;\n",
       "    }\n",
       "\n",
       "    .dataframe thead th {\n",
       "        text-align: right;\n",
       "    }\n",
       "</style>\n",
       "<table border=\"1\" class=\"dataframe\">\n",
       "  <thead>\n",
       "    <tr style=\"text-align: right;\">\n",
       "      <th></th>\n",
       "      <th>Description</th>\n",
       "      <th>Cluster</th>\n",
       "    </tr>\n",
       "  </thead>\n",
       "  <tbody>\n",
       "    <tr>\n",
       "      <th>0</th>\n",
       "      <td>WHITE HANGING HEART T-LIGHT HOLDER</td>\n",
       "      <td>21</td>\n",
       "    </tr>\n",
       "    <tr>\n",
       "      <th>1</th>\n",
       "      <td>WHITE METAL LANTERN</td>\n",
       "      <td>22</td>\n",
       "    </tr>\n",
       "    <tr>\n",
       "      <th>2</th>\n",
       "      <td>CREAM CUPID HEARTS COAT HANGER</td>\n",
       "      <td>23</td>\n",
       "    </tr>\n",
       "    <tr>\n",
       "      <th>3</th>\n",
       "      <td>KNITTED UNION FLAG HOT WATER BOTTLE</td>\n",
       "      <td>1</td>\n",
       "    </tr>\n",
       "    <tr>\n",
       "      <th>4</th>\n",
       "      <td>RED WOOLLY HOTTIE WHITE HEART.</td>\n",
       "      <td>6</td>\n",
       "    </tr>\n",
       "  </tbody>\n",
       "</table>\n",
       "</div>"
      ],
      "text/plain": [
       "                           Description  Cluster\n",
       "0   WHITE HANGING HEART T-LIGHT HOLDER       21\n",
       "1                  WHITE METAL LANTERN       22\n",
       "2       CREAM CUPID HEARTS COAT HANGER       23\n",
       "3  KNITTED UNION FLAG HOT WATER BOTTLE        1\n",
       "4       RED WOOLLY HOTTIE WHITE HEART.        6"
      ]
     },
     "execution_count": 2,
     "metadata": {},
     "output_type": "execute_result"
    }
   ],
   "source": [
    "df = pd.read_csv('../data_versions/clusters.csv')\n",
    "df.head()"
   ]
  },
  {
   "cell_type": "code",
   "execution_count": 3,
   "id": "58e03a27-a3c1-4959-8dde-38ab8000c235",
   "metadata": {},
   "outputs": [
    {
     "data": {
      "text/html": [
       "<div>\n",
       "<style scoped>\n",
       "    .dataframe tbody tr th:only-of-type {\n",
       "        vertical-align: middle;\n",
       "    }\n",
       "\n",
       "    .dataframe tbody tr th {\n",
       "        vertical-align: top;\n",
       "    }\n",
       "\n",
       "    .dataframe thead th {\n",
       "        text-align: right;\n",
       "    }\n",
       "</style>\n",
       "<table border=\"1\" class=\"dataframe\">\n",
       "  <thead>\n",
       "    <tr style=\"text-align: right;\">\n",
       "      <th></th>\n",
       "      <th>Description</th>\n",
       "    </tr>\n",
       "    <tr>\n",
       "      <th>Cluster</th>\n",
       "      <th></th>\n",
       "    </tr>\n",
       "  </thead>\n",
       "  <tbody>\n",
       "    <tr>\n",
       "      <th>1</th>\n",
       "      <td>KNITTED UNION FLAG HOT WATER BOTTLE HAND WARME...</td>\n",
       "    </tr>\n",
       "    <tr>\n",
       "      <th>2</th>\n",
       "      <td>RETROSPOT LARGE MILK JUG SET OF 6 FUNKY BEAKER...</td>\n",
       "    </tr>\n",
       "    <tr>\n",
       "      <th>3</th>\n",
       "      <td>WOOD 2 DRAWER CABINET WHITE FINISH WOOD S/3 CA...</td>\n",
       "    </tr>\n",
       "    <tr>\n",
       "      <th>4</th>\n",
       "      <td>VINTAGE UNION JACK CUSHION COVER FELTCRAFT CUS...</td>\n",
       "    </tr>\n",
       "    <tr>\n",
       "      <th>5</th>\n",
       "      <td>STARS GIFT TAPE  PAPER CHAIN KIT 50'S CHRISTMA...</td>\n",
       "    </tr>\n",
       "  </tbody>\n",
       "</table>\n",
       "</div>"
      ],
      "text/plain": [
       "                                               Description\n",
       "Cluster                                                   \n",
       "1        KNITTED UNION FLAG HOT WATER BOTTLE HAND WARME...\n",
       "2        RETROSPOT LARGE MILK JUG SET OF 6 FUNKY BEAKER...\n",
       "3        WOOD 2 DRAWER CABINET WHITE FINISH WOOD S/3 CA...\n",
       "4        VINTAGE UNION JACK CUSHION COVER FELTCRAFT CUS...\n",
       "5        STARS GIFT TAPE  PAPER CHAIN KIT 50'S CHRISTMA..."
      ]
     },
     "execution_count": 3,
     "metadata": {},
     "output_type": "execute_result"
    }
   ],
   "source": [
    "# construct documents consisting of all products strings belonging to one cluster\n",
    "cluster_docs = df.groupby('Cluster').agg(lambda x: ' '.join(x))\n",
    "cluster_docs.head()"
   ]
  },
  {
   "cell_type": "code",
   "execution_count": 10,
   "id": "6a453d53-e563-43bf-865c-743fade8810a",
   "metadata": {},
   "outputs": [],
   "source": [
    "# while removing stopwords, get the term frequency for all terms in a cluster-doc (node degree)\n",
    "terms_ranking_per_cluster = []\n",
    "stop_words = set(stopwords.words('english'))\n",
    "for i in range(cluster_docs.shape[0]):\n",
    "    terms = cluster_docs.iloc[i,0].split(' ')\n",
    "    filtered = [term for term in terms if term.lower() not in stop_words]\n",
    "    terms = pd.Series(filtered)\n",
    "    terms_counts = terms.value_counts()\n",
    "    terms = terms_counts.index\n",
    "    terms_ranking_per_cluster.append(terms)"
   ]
  },
  {
   "cell_type": "code",
   "execution_count": 11,
   "id": "0d29d8bd-5e33-4e76-9ccb-38c95c2bf9a8",
   "metadata": {},
   "outputs": [],
   "source": [
    "# get most frequent term in each cluster\n",
    "cluster_labels = []\n",
    "for cluster in terms_ranking_per_cluster:\n",
    "    for term in cluster:\n",
    "        if len(term) > 0:\n",
    "            cluster_labels.append(term)\n",
    "            break"
   ]
  },
  {
   "cell_type": "code",
   "execution_count": 12,
   "id": "98924c87-ce2d-4c0d-8425-4f64968ba634",
   "metadata": {},
   "outputs": [
    {
     "data": {
      "text/plain": [
       "26"
      ]
     },
     "execution_count": 12,
     "metadata": {},
     "output_type": "execute_result"
    }
   ],
   "source": [
    "len(cluster_labels)"
   ]
  },
  {
   "cell_type": "code",
   "execution_count": 13,
   "id": "94666033-90bf-43d6-aadb-826a56d6b954",
   "metadata": {
    "scrolled": true
   },
   "outputs": [
    {
     "data": {
      "text/plain": [
       "['MUG',\n",
       " 'GLASS',\n",
       " 'DRAWER',\n",
       " 'CUSHION',\n",
       " 'WRAP',\n",
       " 'PINK',\n",
       " 'SIGN',\n",
       " 'CLOCK',\n",
       " 'KEY',\n",
       " 'MIRROR',\n",
       " 'WALL',\n",
       " 'NOTEBOOK',\n",
       " 'STAND',\n",
       " 'NUMBER',\n",
       " 'HOME',\n",
       " 'BAG',\n",
       " 'CARD',\n",
       " 'SET',\n",
       " 'BOX',\n",
       " 'NECKLACE',\n",
       " 'T-LIGHT',\n",
       " 'CANDLE',\n",
       " 'HEART',\n",
       " 'FLOWER',\n",
       " 'CHRISTMAS',\n",
       " 'EGG']"
      ]
     },
     "execution_count": 13,
     "metadata": {},
     "output_type": "execute_result"
    }
   ],
   "source": [
    "cluster_labels"
   ]
  },
  {
   "cell_type": "code",
   "execution_count": 14,
   "id": "bcf5bee0-dffb-463c-94ec-e80577a6665b",
   "metadata": {},
   "outputs": [],
   "source": [
    "# save the cluster labels in a dataframe, so we can easily join with other datasets to attach labels to clusters\n",
    "df_labels = pd.DataFrame(\n",
    "    {\n",
    "        'Cluster': np.arange(1,27),\n",
    "        'Label': cluster_labels\n",
    "    }\n",
    ")"
   ]
  },
  {
   "cell_type": "code",
   "execution_count": 16,
   "id": "77b16e94-9745-4a71-a413-de08762dd252",
   "metadata": {},
   "outputs": [
    {
     "data": {
      "text/html": [
       "<div>\n",
       "<style scoped>\n",
       "    .dataframe tbody tr th:only-of-type {\n",
       "        vertical-align: middle;\n",
       "    }\n",
       "\n",
       "    .dataframe tbody tr th {\n",
       "        vertical-align: top;\n",
       "    }\n",
       "\n",
       "    .dataframe thead th {\n",
       "        text-align: right;\n",
       "    }\n",
       "</style>\n",
       "<table border=\"1\" class=\"dataframe\">\n",
       "  <thead>\n",
       "    <tr style=\"text-align: right;\">\n",
       "      <th></th>\n",
       "      <th>Cluster</th>\n",
       "      <th>Label</th>\n",
       "    </tr>\n",
       "  </thead>\n",
       "  <tbody>\n",
       "    <tr>\n",
       "      <th>0</th>\n",
       "      <td>1</td>\n",
       "      <td>MUG</td>\n",
       "    </tr>\n",
       "    <tr>\n",
       "      <th>1</th>\n",
       "      <td>2</td>\n",
       "      <td>GLASS</td>\n",
       "    </tr>\n",
       "    <tr>\n",
       "      <th>2</th>\n",
       "      <td>3</td>\n",
       "      <td>DRAWER</td>\n",
       "    </tr>\n",
       "    <tr>\n",
       "      <th>3</th>\n",
       "      <td>4</td>\n",
       "      <td>CUSHION</td>\n",
       "    </tr>\n",
       "    <tr>\n",
       "      <th>4</th>\n",
       "      <td>5</td>\n",
       "      <td>WRAP</td>\n",
       "    </tr>\n",
       "  </tbody>\n",
       "</table>\n",
       "</div>"
      ],
      "text/plain": [
       "   Cluster    Label\n",
       "0        1      MUG\n",
       "1        2    GLASS\n",
       "2        3   DRAWER\n",
       "3        4  CUSHION\n",
       "4        5     WRAP"
      ]
     },
     "execution_count": 16,
     "metadata": {},
     "output_type": "execute_result"
    }
   ],
   "source": [
    "df_labels.head()"
   ]
  },
  {
   "cell_type": "code",
   "execution_count": 17,
   "id": "5507d677-df16-435a-9c72-dab83365038e",
   "metadata": {},
   "outputs": [],
   "source": [
    "df_labels.to_csv('../data_versions/cluster_labels.csv', index=False)"
   ]
  },
  {
   "cell_type": "code",
   "execution_count": null,
   "id": "1cc94b9c-4fdf-46e7-9324-8232edb2ea4a",
   "metadata": {},
   "outputs": [],
   "source": []
  }
 ],
 "metadata": {
  "kernelspec": {
   "display_name": "Python (tfgpu2)",
   "language": "python",
   "name": "tfgpu2"
  },
  "language_info": {
   "codemirror_mode": {
    "name": "ipython",
    "version": 3
   },
   "file_extension": ".py",
   "mimetype": "text/x-python",
   "name": "python",
   "nbconvert_exporter": "python",
   "pygments_lexer": "ipython3",
   "version": "3.12.8"
  }
 },
 "nbformat": 4,
 "nbformat_minor": 5
}
