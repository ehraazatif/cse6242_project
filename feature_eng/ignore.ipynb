{
 "cells": [
  {
   "cell_type": "code",
   "execution_count": null,
   "id": "61eab633-0bc1-44da-97f4-4347116bc024",
   "metadata": {},
   "outputs": [
    {
     "name": "stdout",
     "output_type": "stream",
     "text": [
      "   InvoiceNo                                     Label\n",
      "0     536365  [BOX, CANDLE, HEART, MUG, PINK, T-LIGHT]\n",
      "1     536366                                     [MUG]\n",
      "2     536367          [BOX, EGG, HOME, MUG, PINK, SET]\n",
      "3     536368                              [BOX, STAND]\n",
      "4     536369                                    [HOME]\n"
     ]
    },
    {
     "name": "stderr",
     "output_type": "stream",
     "text": [
      "/home/sea2002/miniconda3/envs/tfgpu2/lib/python3.12/site-packages/mlxtend/frequent_patterns/fpcommon.py:161: DeprecationWarning: DataFrames with non-bool types result in worse computationalperformance and their support might be discontinued in the future.Please use a DataFrame with bool type\n",
      "  warnings.warn(\n"
     ]
    }
   ],
   "source": [
    "import pandas as pd\n",
    "from mlxtend.frequent_patterns import apriori, association_rules\n",
    "\n",
    "df_products   = pd.read_csv(\"../data_versions/clusters.csv\")        # Description  | Cluster\n",
    "df_labels     = pd.read_csv(\"../data_versions/cluster_labels.csv\")  # Cluster | Label\n",
    "df_transactions = pd.read_csv('../data_versions/cleaned_1.csv')\n",
    "\n",
    "# Attach human‑readable labels to each product row\n",
    "df_products   = df_products.merge(df_labels, on=\"Cluster\", how=\"outer\")  \n",
    "df_transactions = df_transactions.merge(df_products, on=\"Description\", how=\"outer\")\n",
    "\n",
    "# 2. Build “basket” (one row = one InvoiceNo, items = cluster labels)\n",
    "basket = (df_products\n",
    "          .groupby(\"InvoiceNo\")[\"Label\"]\n",
    "          .apply(lambda items: sorted(set(items)))       \n",
    "          .reset_index())\n",
    "\n",
    "print(basket.head())\n",
    "\n",
    "\n",
    "# 3. Convert to one‑hot encoded matrix for Apriori\n",
    "# explode so each row = one (invoice, label) pair\n",
    "explode = basket.explode(\"Label\")\n",
    "\n",
    "# one‑hot encode\n",
    "basket_ohe = (explode\n",
    "              .assign(value=1)\n",
    "              .pivot_table(index=\"InvoiceNo\",\n",
    "                           columns=\"Label\",\n",
    "                           values=\"value\",\n",
    "                           fill_value=0)\n",
    "             )\n",
    "\n",
    "\n",
    "# 4. Frequent itemsets & association rules\n",
    "freq_sets = apriori(basket_ohe,\n",
    "                    min_support=0.01,\n",
    "                    use_colnames=True)\n",
    "\n",
    "# generate rules with minimum confidence threshold\n",
    "rules = association_rules(freq_sets,\n",
    "                          metric=\"confidence\",\n",
    "                          min_threshold=0)   # adjust as desired\n",
    "\n",
    "# Sort by lift (or confidence) for readability\n",
    "rules_sorted = rules.sort_values(\"lift\", ascending=False)\n",
    "\n",
    "# 5. Inspect / export\n",
    "print(\"Top 10 rules by lift:\")\n",
    "print(rules_sorted[[\"antecedents\", \"consequents\",\n",
    "                    \"support\", \"confidence\", \"lift\"]].head(10))\n",
    "\n",
    "# Save to CSV for later use / visualization\n",
    "rules_sorted.to_csv(\"../outputs/cluster_rules.csv\", index=False)"
   ]
  },
  {
   "cell_type": "code",
   "execution_count": null,
   "id": "ff2a6e88-ee82-4803-8887-0ab40ea2b052",
   "metadata": {},
   "outputs": [],
   "source": []
  }
 ],
 "metadata": {
  "kernelspec": {
   "display_name": "Python (tfgpu2)",
   "language": "python",
   "name": "tfgpu2"
  },
  "language_info": {
   "codemirror_mode": {
    "name": "ipython",
    "version": 3
   },
   "file_extension": ".py",
   "mimetype": "text/x-python",
   "name": "python",
   "nbconvert_exporter": "python",
   "pygments_lexer": "ipython3",
   "version": "3.12.8"
  }
 },
 "nbformat": 4,
 "nbformat_minor": 5
}
