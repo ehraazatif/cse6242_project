{
 "cells": [
  {
   "cell_type": "code",
   "execution_count": 14,
   "id": "d5a94e61-e513-4d4e-b4e5-abf21ed23786",
   "metadata": {},
   "outputs": [],
   "source": [
    "import pandas as pd\n",
    "from itertools import combinations\n",
    "import numpy as np\n",
    "from mlxtend.frequent_patterns import apriori, association_rules"
   ]
  },
  {
   "cell_type": "markdown",
   "id": "744757a7-dddf-44ca-baac-68448ce0a456",
   "metadata": {},
   "source": [
    "<h1>ARM for clusters</h1>"
   ]
  },
  {
   "cell_type": "code",
   "execution_count": 2,
   "id": "519e8f04-229c-4bd4-8cc6-75fbaa44fbb0",
   "metadata": {},
   "outputs": [],
   "source": [
    "# load and merge all appropriate datasets\n",
    "df_products   = pd.read_csv(\"../data_versions/clusters.csv\")        # Description  | Cluster\n",
    "df_labels     = pd.read_csv(\"../data_versions/cluster_labels.csv\")  # Cluster | Label\n",
    "df_transactions = pd.read_csv('../data_versions/cleaned_1.csv')\n",
    "\n",
    "\n",
    "df_products_labeled   = df_products.merge(df_labels, on=\"Cluster\", how=\"outer\")  \n",
    "df_transactions_labeled = df_transactions.merge(df_products_labeled, on=\"Description\", how=\"outer\")"
   ]
  },
  {
   "cell_type": "code",
   "execution_count": 3,
   "id": "a369bdb3-c3a4-4df1-a14c-2c2134e8fa96",
   "metadata": {},
   "outputs": [
    {
     "data": {
      "text/html": [
       "<div>\n",
       "<style scoped>\n",
       "    .dataframe tbody tr th:only-of-type {\n",
       "        vertical-align: middle;\n",
       "    }\n",
       "\n",
       "    .dataframe tbody tr th {\n",
       "        vertical-align: top;\n",
       "    }\n",
       "\n",
       "    .dataframe thead th {\n",
       "        text-align: right;\n",
       "    }\n",
       "</style>\n",
       "<table border=\"1\" class=\"dataframe\">\n",
       "  <thead>\n",
       "    <tr style=\"text-align: right;\">\n",
       "      <th></th>\n",
       "      <th>InvoiceNo</th>\n",
       "      <th>StockCode</th>\n",
       "      <th>Description</th>\n",
       "      <th>Quantity</th>\n",
       "      <th>InvoiceDate</th>\n",
       "      <th>UnitPrice</th>\n",
       "      <th>CustomerID</th>\n",
       "      <th>Country</th>\n",
       "      <th>Cluster</th>\n",
       "      <th>Label</th>\n",
       "    </tr>\n",
       "  </thead>\n",
       "  <tbody>\n",
       "    <tr>\n",
       "      <th>0</th>\n",
       "      <td>536522</td>\n",
       "      <td>72800B</td>\n",
       "      <td>4 PURPLE FLOCK DINNER CANDLES</td>\n",
       "      <td>2</td>\n",
       "      <td>2010-12-01 12:49:00</td>\n",
       "      <td>2.55</td>\n",
       "      <td>15012.0</td>\n",
       "      <td>United Kingdom</td>\n",
       "      <td>22</td>\n",
       "      <td>CANDLE</td>\n",
       "    </tr>\n",
       "    <tr>\n",
       "      <th>1</th>\n",
       "      <td>537044</td>\n",
       "      <td>72800B</td>\n",
       "      <td>4 PURPLE FLOCK DINNER CANDLES</td>\n",
       "      <td>12</td>\n",
       "      <td>2010-12-05 10:52:00</td>\n",
       "      <td>2.55</td>\n",
       "      <td>18055.0</td>\n",
       "      <td>United Kingdom</td>\n",
       "      <td>22</td>\n",
       "      <td>CANDLE</td>\n",
       "    </tr>\n",
       "    <tr>\n",
       "      <th>2</th>\n",
       "      <td>539595</td>\n",
       "      <td>72800B</td>\n",
       "      <td>4 PURPLE FLOCK DINNER CANDLES</td>\n",
       "      <td>2</td>\n",
       "      <td>2010-12-20 13:43:00</td>\n",
       "      <td>5.06</td>\n",
       "      <td>NaN</td>\n",
       "      <td>United Kingdom</td>\n",
       "      <td>22</td>\n",
       "      <td>CANDLE</td>\n",
       "    </tr>\n",
       "    <tr>\n",
       "      <th>3</th>\n",
       "      <td>540247</td>\n",
       "      <td>72800B</td>\n",
       "      <td>4 PURPLE FLOCK DINNER CANDLES</td>\n",
       "      <td>1</td>\n",
       "      <td>2011-01-05 15:56:00</td>\n",
       "      <td>2.55</td>\n",
       "      <td>15464.0</td>\n",
       "      <td>United Kingdom</td>\n",
       "      <td>22</td>\n",
       "      <td>CANDLE</td>\n",
       "    </tr>\n",
       "    <tr>\n",
       "      <th>4</th>\n",
       "      <td>542226</td>\n",
       "      <td>72800B</td>\n",
       "      <td>4 PURPLE FLOCK DINNER CANDLES</td>\n",
       "      <td>1</td>\n",
       "      <td>2011-01-26 13:20:00</td>\n",
       "      <td>2.55</td>\n",
       "      <td>17075.0</td>\n",
       "      <td>United Kingdom</td>\n",
       "      <td>22</td>\n",
       "      <td>CANDLE</td>\n",
       "    </tr>\n",
       "  </tbody>\n",
       "</table>\n",
       "</div>"
      ],
      "text/plain": [
       "   InvoiceNo StockCode                     Description  Quantity  \\\n",
       "0     536522    72800B   4 PURPLE FLOCK DINNER CANDLES         2   \n",
       "1     537044    72800B   4 PURPLE FLOCK DINNER CANDLES        12   \n",
       "2     539595    72800B   4 PURPLE FLOCK DINNER CANDLES         2   \n",
       "3     540247    72800B   4 PURPLE FLOCK DINNER CANDLES         1   \n",
       "4     542226    72800B   4 PURPLE FLOCK DINNER CANDLES         1   \n",
       "\n",
       "           InvoiceDate  UnitPrice  CustomerID         Country  Cluster   Label  \n",
       "0  2010-12-01 12:49:00       2.55     15012.0  United Kingdom       22  CANDLE  \n",
       "1  2010-12-05 10:52:00       2.55     18055.0  United Kingdom       22  CANDLE  \n",
       "2  2010-12-20 13:43:00       5.06         NaN  United Kingdom       22  CANDLE  \n",
       "3  2011-01-05 15:56:00       2.55     15464.0  United Kingdom       22  CANDLE  \n",
       "4  2011-01-26 13:20:00       2.55     17075.0  United Kingdom       22  CANDLE  "
      ]
     },
     "execution_count": 3,
     "metadata": {},
     "output_type": "execute_result"
    }
   ],
   "source": [
    "df_transactions_labeled.head()"
   ]
  },
  {
   "cell_type": "code",
   "execution_count": 4,
   "id": "82cf7a1d-d3ec-4ae0-b6a1-790fef0b5fc0",
   "metadata": {},
   "outputs": [],
   "source": [
    "df_transactions_labeled.to_csv('../data_versions/whole_data.csv', index=False) # save finalized dataset"
   ]
  },
  {
   "cell_type": "code",
   "execution_count": 5,
   "id": "8bf4b355-2a48-40ab-9102-8a487677bbac",
   "metadata": {},
   "outputs": [
    {
     "data": {
      "text/html": [
       "<div>\n",
       "<style scoped>\n",
       "    .dataframe tbody tr th:only-of-type {\n",
       "        vertical-align: middle;\n",
       "    }\n",
       "\n",
       "    .dataframe tbody tr th {\n",
       "        vertical-align: top;\n",
       "    }\n",
       "\n",
       "    .dataframe thead th {\n",
       "        text-align: right;\n",
       "    }\n",
       "</style>\n",
       "<table border=\"1\" class=\"dataframe\">\n",
       "  <thead>\n",
       "    <tr style=\"text-align: right;\">\n",
       "      <th></th>\n",
       "      <th>InvoiceNo</th>\n",
       "      <th>Label</th>\n",
       "    </tr>\n",
       "  </thead>\n",
       "  <tbody>\n",
       "    <tr>\n",
       "      <th>0</th>\n",
       "      <td>536365</td>\n",
       "      <td>[HEART, T-LIGHT, MUG, PINK, BOX, T-LIGHT, CANDLE]</td>\n",
       "    </tr>\n",
       "    <tr>\n",
       "      <th>1</th>\n",
       "      <td>536366</td>\n",
       "      <td>[MUG, MUG]</td>\n",
       "    </tr>\n",
       "    <tr>\n",
       "      <th>2</th>\n",
       "      <td>536367</td>\n",
       "      <td>[EGG, SET, BOX, BOX, HOME, PINK, HOME, MUG, HO...</td>\n",
       "    </tr>\n",
       "    <tr>\n",
       "      <th>3</th>\n",
       "      <td>536368</td>\n",
       "      <td>[STAND, BOX, STAND, STAND]</td>\n",
       "    </tr>\n",
       "    <tr>\n",
       "      <th>4</th>\n",
       "      <td>536369</td>\n",
       "      <td>[HOME]</td>\n",
       "    </tr>\n",
       "  </tbody>\n",
       "</table>\n",
       "</div>"
      ],
      "text/plain": [
       "   InvoiceNo                                              Label\n",
       "0     536365  [HEART, T-LIGHT, MUG, PINK, BOX, T-LIGHT, CANDLE]\n",
       "1     536366                                         [MUG, MUG]\n",
       "2     536367  [EGG, SET, BOX, BOX, HOME, PINK, HOME, MUG, HO...\n",
       "3     536368                         [STAND, BOX, STAND, STAND]\n",
       "4     536369                                             [HOME]"
      ]
     },
     "execution_count": 5,
     "metadata": {},
     "output_type": "execute_result"
    }
   ],
   "source": [
    "df_transactions_grouped = df_transactions_labeled.groupby(\"InvoiceNo\")['Label'].agg(list).reset_index()\n",
    "df_transactions_grouped.head()"
   ]
  },
  {
   "cell_type": "code",
   "execution_count": 6,
   "id": "6da71a01-993b-4177-b62d-4ee822ede718",
   "metadata": {},
   "outputs": [
    {
     "data": {
      "text/plain": [
       "['MUG', 'GLASS', 'DRAWER', 'CUSHION', 'WRAP']"
      ]
     },
     "execution_count": 6,
     "metadata": {},
     "output_type": "execute_result"
    }
   ],
   "source": [
    "# generate size 2 itemsets\n",
    "labels = list(df_labels['Label'])\n",
    "labels[:5]"
   ]
  },
  {
   "cell_type": "code",
   "execution_count": 7,
   "id": "4290123c-b267-4916-a27e-b64fbb1b2f2a",
   "metadata": {},
   "outputs": [
    {
     "data": {
      "text/plain": [
       "[('BAG', 'BOX'),\n",
       " ('BAG', 'CANDLE'),\n",
       " ('BAG', 'CARD'),\n",
       " ('BAG', 'CHRISTMAS'),\n",
       " ('BAG', 'CLOCK')]"
      ]
     },
     "execution_count": 7,
     "metadata": {},
     "output_type": "execute_result"
    }
   ],
   "source": [
    "result = list(combinations(sorted(labels), 2))\n",
    "result[:5]"
   ]
  },
  {
   "cell_type": "code",
   "execution_count": 8,
   "id": "980b4b0f-bf58-49c4-b15f-2bee23e3646c",
   "metadata": {},
   "outputs": [],
   "source": [
    "# construct dictionary that will hold all 2-itemsets and their \"count\"\n",
    "rules_count = {}\n",
    "for r in result:\n",
    "    rules_count.update({r: 0})"
   ]
  },
  {
   "cell_type": "code",
   "execution_count": 9,
   "id": "672f9035-3601-4716-8f42-343f9bdce6dd",
   "metadata": {},
   "outputs": [],
   "source": [
    "#iterate through the dataset and update rule counts accordingly\n",
    "for row in range(df_transactions_grouped.shape[0]):\n",
    "    t = df_transactions_grouped.iloc[row, 1]\n",
    "    itemsets = combinations(sorted(t), 2)\n",
    "    for i in itemsets:\n",
    "        if len(set(i)) > 1: #ignore when 2 items from same cluster are bought\n",
    "            rules_count[i] += 1"
   ]
  },
  {
   "cell_type": "code",
   "execution_count": 10,
   "id": "fc13c50b-61af-4d03-85cb-527997ee95bd",
   "metadata": {},
   "outputs": [
    {
     "data": {
      "text/plain": [
       "[414945, 125245, 104736, 153349, 33943]"
      ]
     },
     "execution_count": 10,
     "metadata": {},
     "output_type": "execute_result"
    }
   ],
   "source": [
    "# extract rule frequencies\n",
    "rules_strength = [rules_count[rule] for rule in rules_count]\n",
    "rules_strength[:5]"
   ]
  },
  {
   "cell_type": "code",
   "execution_count": 11,
   "id": "1b508213-394a-476d-b3ff-9383e776a9c9",
   "metadata": {},
   "outputs": [],
   "source": [
    "# calculate proportion of transactions that a given rule appears in - this will be the 'strength' factor\n",
    "rules_strength_array = np.array(rules_strength)\n",
    "rules_strength_prop = rules_strength_array / df_transactions_grouped.shape[0]"
   ]
  },
  {
   "cell_type": "code",
   "execution_count": 12,
   "id": "b593ba44-c6bd-4f5c-b749-57d92f67a4a3",
   "metadata": {},
   "outputs": [],
   "source": [
    "# save rules and their strength to csv\n",
    "df_rule_strengths = pd.DataFrame(\n",
    "    {\n",
    "        'Rule': list(rules_count.keys()),\n",
    "        'Strength': rules_strength_prop\n",
    "    }\n",
    ")"
   ]
  },
  {
   "cell_type": "code",
   "execution_count": 13,
   "id": "3fce9edb-9ccb-4497-ac4b-b2b2261fee75",
   "metadata": {},
   "outputs": [],
   "source": [
    "df_rule_strengths.to_csv('../data_versions/rules_strengths.csv', index=False)"
   ]
  },
  {
   "cell_type": "markdown",
   "id": "82f249a6-e6c5-4087-a271-0df938611e22",
   "metadata": {},
   "source": [
    "<h1>ARM for products</h1>"
   ]
  },
  {
   "cell_type": "code",
   "execution_count": 58,
   "id": "0289a450-b091-4b1b-ad3e-843691fd5956",
   "metadata": {},
   "outputs": [
    {
     "data": {
      "text/html": [
       "<div>\n",
       "<style scoped>\n",
       "    .dataframe tbody tr th:only-of-type {\n",
       "        vertical-align: middle;\n",
       "    }\n",
       "\n",
       "    .dataframe tbody tr th {\n",
       "        vertical-align: top;\n",
       "    }\n",
       "\n",
       "    .dataframe thead th {\n",
       "        text-align: right;\n",
       "    }\n",
       "</style>\n",
       "<table border=\"1\" class=\"dataframe\">\n",
       "  <thead>\n",
       "    <tr style=\"text-align: right;\">\n",
       "      <th></th>\n",
       "      <th>InvoiceNo</th>\n",
       "      <th>Description</th>\n",
       "    </tr>\n",
       "  </thead>\n",
       "  <tbody>\n",
       "    <tr>\n",
       "      <th>0</th>\n",
       "      <td>536365</td>\n",
       "      <td>[CREAM CUPID HEARTS COAT HANGER, GLASS STAR FR...</td>\n",
       "    </tr>\n",
       "    <tr>\n",
       "      <th>1</th>\n",
       "      <td>536366</td>\n",
       "      <td>[HAND WARMER RED POLKA DOT, HAND WARMER UNION ...</td>\n",
       "    </tr>\n",
       "    <tr>\n",
       "      <th>2</th>\n",
       "      <td>536367</td>\n",
       "      <td>[ASSORTED COLOUR BIRD ORNAMENT, BOX OF 6 ASSOR...</td>\n",
       "    </tr>\n",
       "    <tr>\n",
       "      <th>3</th>\n",
       "      <td>536368</td>\n",
       "      <td>[BLUE COAT RACK PARIS FASHION, JAM MAKING SET ...</td>\n",
       "    </tr>\n",
       "    <tr>\n",
       "      <th>4</th>\n",
       "      <td>536369</td>\n",
       "      <td>[BATH BUILDING BLOCK WORD]</td>\n",
       "    </tr>\n",
       "  </tbody>\n",
       "</table>\n",
       "</div>"
      ],
      "text/plain": [
       "   InvoiceNo                                        Description\n",
       "0     536365  [CREAM CUPID HEARTS COAT HANGER, GLASS STAR FR...\n",
       "1     536366  [HAND WARMER RED POLKA DOT, HAND WARMER UNION ...\n",
       "2     536367  [ASSORTED COLOUR BIRD ORNAMENT, BOX OF 6 ASSOR...\n",
       "3     536368  [BLUE COAT RACK PARIS FASHION, JAM MAKING SET ...\n",
       "4     536369                         [BATH BUILDING BLOCK WORD]"
      ]
     },
     "execution_count": 58,
     "metadata": {},
     "output_type": "execute_result"
    }
   ],
   "source": [
    "basket = (df_transactions_labeled\n",
    "          .groupby(\"InvoiceNo\")[\"Description\"]\n",
    "          .apply(lambda items: sorted(set(items)))       \n",
    "          .reset_index())\n",
    "\n",
    "basket.head()"
   ]
  },
  {
   "cell_type": "code",
   "execution_count": 59,
   "id": "39af6cef-050a-42fc-bbf4-8bfc77c6d11e",
   "metadata": {},
   "outputs": [],
   "source": [
    "# 3. Convert to one‑hot encoded matrix for Apriori\n",
    "# explode so each row = one (invoice, label) pair\n",
    "explode = basket.explode(\"Description\")\n",
    "\n",
    "# one‑hot encode\n",
    "basket_ohe = (explode\n",
    "              .assign(value=1)\n",
    "              .pivot_table(index=\"InvoiceNo\",\n",
    "                           columns=\"Description\",\n",
    "                           values=\"value\",\n",
    "                           fill_value=0)\n",
    "             )"
   ]
  },
  {
   "cell_type": "code",
   "execution_count": 65,
   "id": "c5205b95-628e-4ffd-8f4c-1e2e2499d399",
   "metadata": {},
   "outputs": [
    {
     "name": "stderr",
     "output_type": "stream",
     "text": [
      "/home/sea2002/miniconda3/envs/tfgpu2/lib/python3.12/site-packages/mlxtend/frequent_patterns/fpcommon.py:161: DeprecationWarning: DataFrames with non-bool types result in worse computationalperformance and their support might be discontinued in the future.Please use a DataFrame with bool type\n",
      "  warnings.warn(\n"
     ]
    }
   ],
   "source": [
    "# 4. Frequent itemsets & association rules\n",
    "freq_sets = apriori(basket_ohe,\n",
    "                    min_support=0.025,\n",
    "                    use_colnames=True)"
   ]
  },
  {
   "cell_type": "code",
   "execution_count": 71,
   "id": "009400fd-7311-4ebc-8f29-4931c6e9c03f",
   "metadata": {},
   "outputs": [],
   "source": [
    "# generate rules with minimum confidence threshold\n",
    "rules = association_rules(freq_sets,\n",
    "                          metric=\"confidence\",\n",
    "                          min_threshold=0.35)   # adjust as desired"
   ]
  },
  {
   "cell_type": "code",
   "execution_count": 72,
   "id": "e525d8a3-d264-4a68-b6ca-cddafde9bba4",
   "metadata": {},
   "outputs": [
    {
     "data": {
      "text/plain": [
       "(58, 14)"
      ]
     },
     "execution_count": 72,
     "metadata": {},
     "output_type": "execute_result"
    }
   ],
   "source": [
    "rules.shape"
   ]
  },
  {
   "cell_type": "code",
   "execution_count": null,
   "id": "2037bde7-5d40-47f6-b199-5384009830c8",
   "metadata": {},
   "outputs": [],
   "source": []
  }
 ],
 "metadata": {
  "kernelspec": {
   "display_name": "Python (tfgpu2)",
   "language": "python",
   "name": "tfgpu2"
  },
  "language_info": {
   "codemirror_mode": {
    "name": "ipython",
    "version": 3
   },
   "file_extension": ".py",
   "mimetype": "text/x-python",
   "name": "python",
   "nbconvert_exporter": "python",
   "pygments_lexer": "ipython3",
   "version": "3.12.8"
  }
 },
 "nbformat": 4,
 "nbformat_minor": 5
}
