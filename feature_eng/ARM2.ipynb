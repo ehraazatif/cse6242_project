{
 "cells": [
  {
   "cell_type": "code",
   "execution_count": 1,
   "id": "d5a94e61-e513-4d4e-b4e5-abf21ed23786",
   "metadata": {},
   "outputs": [],
   "source": [
    "import pandas as pd\n",
    "from itertools import combinations\n",
    "import numpy as np\n",
    "from mlxtend.frequent_patterns import apriori, association_rules"
   ]
  },
  {
   "cell_type": "markdown",
   "id": "744757a7-dddf-44ca-baac-68448ce0a456",
   "metadata": {},
   "source": [
    "<h1>ARM for clusters</h1>"
   ]
  },
  {
   "cell_type": "code",
   "execution_count": 3,
   "id": "519e8f04-229c-4bd4-8cc6-75fbaa44fbb0",
   "metadata": {},
   "outputs": [],
   "source": [
    "# load and merge all appropriate datasets\n",
    "df_products   = pd.read_csv(\"../data_versions/clusters.csv\")        # Description  | Cluster\n",
    "df_labels     = pd.read_csv(\"../data_versions/cluster_labels.csv\")  # Cluster | Label\n",
    "df_transactions = pd.read_csv('../data_versions/cleaned_1.csv')\n",
    "\n",
    "\n",
    "df_products_labeled   = df_products.merge(df_labels, on=\"Cluster\", how=\"outer\")  \n",
    "df_transactions_labeled = df_transactions.merge(df_products_labeled, on=\"Description\", how=\"outer\")"
   ]
  },
  {
   "cell_type": "code",
   "execution_count": 4,
   "id": "746b072e-e89e-42cb-80b2-5fb2634ff644",
   "metadata": {},
   "outputs": [
    {
     "data": {
      "text/html": [
       "<div>\n",
       "<style scoped>\n",
       "    .dataframe tbody tr th:only-of-type {\n",
       "        vertical-align: middle;\n",
       "    }\n",
       "\n",
       "    .dataframe tbody tr th {\n",
       "        vertical-align: top;\n",
       "    }\n",
       "\n",
       "    .dataframe thead th {\n",
       "        text-align: right;\n",
       "    }\n",
       "</style>\n",
       "<table border=\"1\" class=\"dataframe\">\n",
       "  <thead>\n",
       "    <tr style=\"text-align: right;\">\n",
       "      <th></th>\n",
       "      <th>InvoiceNo</th>\n",
       "      <th>StockCode</th>\n",
       "      <th>Description</th>\n",
       "      <th>Quantity</th>\n",
       "      <th>InvoiceDate</th>\n",
       "      <th>UnitPrice</th>\n",
       "      <th>CustomerID</th>\n",
       "      <th>Country</th>\n",
       "    </tr>\n",
       "  </thead>\n",
       "  <tbody>\n",
       "    <tr>\n",
       "      <th>613</th>\n",
       "      <td>536414</td>\n",
       "      <td>22139</td>\n",
       "      <td>RETROSPOT TEA SET CERAMIC 11 PC</td>\n",
       "      <td>56</td>\n",
       "      <td>2010-12-01 11:52:00</td>\n",
       "      <td>0.00</td>\n",
       "      <td>NaN</td>\n",
       "      <td>United Kingdom</td>\n",
       "    </tr>\n",
       "    <tr>\n",
       "      <th>1431</th>\n",
       "      <td>536544</td>\n",
       "      <td>21773</td>\n",
       "      <td>DECORATIVE ROSE BATHROOM BOTTLE</td>\n",
       "      <td>1</td>\n",
       "      <td>2010-12-01 14:32:00</td>\n",
       "      <td>2.51</td>\n",
       "      <td>NaN</td>\n",
       "      <td>United Kingdom</td>\n",
       "    </tr>\n",
       "    <tr>\n",
       "      <th>1432</th>\n",
       "      <td>536544</td>\n",
       "      <td>21774</td>\n",
       "      <td>DECORATIVE CATS BATHROOM BOTTLE</td>\n",
       "      <td>2</td>\n",
       "      <td>2010-12-01 14:32:00</td>\n",
       "      <td>2.51</td>\n",
       "      <td>NaN</td>\n",
       "      <td>United Kingdom</td>\n",
       "    </tr>\n",
       "    <tr>\n",
       "      <th>1433</th>\n",
       "      <td>536544</td>\n",
       "      <td>21786</td>\n",
       "      <td>POLKADOT RAIN HAT</td>\n",
       "      <td>4</td>\n",
       "      <td>2010-12-01 14:32:00</td>\n",
       "      <td>0.85</td>\n",
       "      <td>NaN</td>\n",
       "      <td>United Kingdom</td>\n",
       "    </tr>\n",
       "    <tr>\n",
       "      <th>1434</th>\n",
       "      <td>536544</td>\n",
       "      <td>21787</td>\n",
       "      <td>RAIN PONCHO RETROSPOT</td>\n",
       "      <td>2</td>\n",
       "      <td>2010-12-01 14:32:00</td>\n",
       "      <td>1.66</td>\n",
       "      <td>NaN</td>\n",
       "      <td>United Kingdom</td>\n",
       "    </tr>\n",
       "    <tr>\n",
       "      <th>...</th>\n",
       "      <td>...</td>\n",
       "      <td>...</td>\n",
       "      <td>...</td>\n",
       "      <td>...</td>\n",
       "      <td>...</td>\n",
       "      <td>...</td>\n",
       "      <td>...</td>\n",
       "      <td>...</td>\n",
       "    </tr>\n",
       "    <tr>\n",
       "      <th>530263</th>\n",
       "      <td>581498</td>\n",
       "      <td>85099B</td>\n",
       "      <td>JUMBO BAG RED RETROSPOT</td>\n",
       "      <td>5</td>\n",
       "      <td>2011-12-09 10:26:00</td>\n",
       "      <td>4.13</td>\n",
       "      <td>NaN</td>\n",
       "      <td>United Kingdom</td>\n",
       "    </tr>\n",
       "    <tr>\n",
       "      <th>530264</th>\n",
       "      <td>581498</td>\n",
       "      <td>85099C</td>\n",
       "      <td>JUMBO  BAG BAROQUE BLACK WHITE</td>\n",
       "      <td>4</td>\n",
       "      <td>2011-12-09 10:26:00</td>\n",
       "      <td>4.13</td>\n",
       "      <td>NaN</td>\n",
       "      <td>United Kingdom</td>\n",
       "    </tr>\n",
       "    <tr>\n",
       "      <th>530265</th>\n",
       "      <td>581498</td>\n",
       "      <td>85150</td>\n",
       "      <td>LADIES &amp; GENTLEMEN METAL SIGN</td>\n",
       "      <td>1</td>\n",
       "      <td>2011-12-09 10:26:00</td>\n",
       "      <td>4.96</td>\n",
       "      <td>NaN</td>\n",
       "      <td>United Kingdom</td>\n",
       "    </tr>\n",
       "    <tr>\n",
       "      <th>530266</th>\n",
       "      <td>581498</td>\n",
       "      <td>85174</td>\n",
       "      <td>S/4 CACTI CANDLES</td>\n",
       "      <td>1</td>\n",
       "      <td>2011-12-09 10:26:00</td>\n",
       "      <td>10.79</td>\n",
       "      <td>NaN</td>\n",
       "      <td>United Kingdom</td>\n",
       "    </tr>\n",
       "    <tr>\n",
       "      <th>530267</th>\n",
       "      <td>581498</td>\n",
       "      <td>DOT</td>\n",
       "      <td>DOTCOM POSTAGE</td>\n",
       "      <td>1</td>\n",
       "      <td>2011-12-09 10:26:00</td>\n",
       "      <td>1714.17</td>\n",
       "      <td>NaN</td>\n",
       "      <td>United Kingdom</td>\n",
       "    </tr>\n",
       "  </tbody>\n",
       "</table>\n",
       "<p>133105 rows × 8 columns</p>\n",
       "</div>"
      ],
      "text/plain": [
       "        InvoiceNo StockCode                       Description  Quantity  \\\n",
       "613        536414     22139  RETROSPOT TEA SET CERAMIC 11 PC         56   \n",
       "1431       536544     21773   DECORATIVE ROSE BATHROOM BOTTLE         1   \n",
       "1432       536544     21774   DECORATIVE CATS BATHROOM BOTTLE         2   \n",
       "1433       536544     21786                POLKADOT RAIN HAT          4   \n",
       "1434       536544     21787             RAIN PONCHO RETROSPOT         2   \n",
       "...           ...       ...                               ...       ...   \n",
       "530263     581498    85099B           JUMBO BAG RED RETROSPOT         5   \n",
       "530264     581498    85099C    JUMBO  BAG BAROQUE BLACK WHITE         4   \n",
       "530265     581498     85150     LADIES & GENTLEMEN METAL SIGN         1   \n",
       "530266     581498     85174                 S/4 CACTI CANDLES         1   \n",
       "530267     581498       DOT                    DOTCOM POSTAGE         1   \n",
       "\n",
       "                InvoiceDate  UnitPrice  CustomerID         Country  \n",
       "613     2010-12-01 11:52:00       0.00         NaN  United Kingdom  \n",
       "1431    2010-12-01 14:32:00       2.51         NaN  United Kingdom  \n",
       "1432    2010-12-01 14:32:00       2.51         NaN  United Kingdom  \n",
       "1433    2010-12-01 14:32:00       0.85         NaN  United Kingdom  \n",
       "1434    2010-12-01 14:32:00       1.66         NaN  United Kingdom  \n",
       "...                     ...        ...         ...             ...  \n",
       "530263  2011-12-09 10:26:00       4.13         NaN  United Kingdom  \n",
       "530264  2011-12-09 10:26:00       4.13         NaN  United Kingdom  \n",
       "530265  2011-12-09 10:26:00       4.96         NaN  United Kingdom  \n",
       "530266  2011-12-09 10:26:00      10.79         NaN  United Kingdom  \n",
       "530267  2011-12-09 10:26:00    1714.17         NaN  United Kingdom  \n",
       "\n",
       "[133105 rows x 8 columns]"
      ]
     },
     "execution_count": 4,
     "metadata": {},
     "output_type": "execute_result"
    }
   ],
   "source": [
    "df_transactions.loc[df_transactions.CustomerID.isna(),:]"
   ]
  },
  {
   "cell_type": "code",
   "execution_count": 5,
   "id": "a369bdb3-c3a4-4df1-a14c-2c2134e8fa96",
   "metadata": {},
   "outputs": [
    {
     "data": {
      "text/html": [
       "<div>\n",
       "<style scoped>\n",
       "    .dataframe tbody tr th:only-of-type {\n",
       "        vertical-align: middle;\n",
       "    }\n",
       "\n",
       "    .dataframe tbody tr th {\n",
       "        vertical-align: top;\n",
       "    }\n",
       "\n",
       "    .dataframe thead th {\n",
       "        text-align: right;\n",
       "    }\n",
       "</style>\n",
       "<table border=\"1\" class=\"dataframe\">\n",
       "  <thead>\n",
       "    <tr style=\"text-align: right;\">\n",
       "      <th></th>\n",
       "      <th>InvoiceNo</th>\n",
       "      <th>StockCode</th>\n",
       "      <th>Description</th>\n",
       "      <th>Quantity</th>\n",
       "      <th>InvoiceDate</th>\n",
       "      <th>UnitPrice</th>\n",
       "      <th>CustomerID</th>\n",
       "      <th>Country</th>\n",
       "      <th>Cluster</th>\n",
       "      <th>Label</th>\n",
       "    </tr>\n",
       "  </thead>\n",
       "  <tbody>\n",
       "    <tr>\n",
       "      <th>0</th>\n",
       "      <td>536522</td>\n",
       "      <td>72800B</td>\n",
       "      <td>4 PURPLE FLOCK DINNER CANDLES</td>\n",
       "      <td>2</td>\n",
       "      <td>2010-12-01 12:49:00</td>\n",
       "      <td>2.55</td>\n",
       "      <td>15012.0</td>\n",
       "      <td>United Kingdom</td>\n",
       "      <td>22</td>\n",
       "      <td>CANDLE</td>\n",
       "    </tr>\n",
       "    <tr>\n",
       "      <th>1</th>\n",
       "      <td>537044</td>\n",
       "      <td>72800B</td>\n",
       "      <td>4 PURPLE FLOCK DINNER CANDLES</td>\n",
       "      <td>12</td>\n",
       "      <td>2010-12-05 10:52:00</td>\n",
       "      <td>2.55</td>\n",
       "      <td>18055.0</td>\n",
       "      <td>United Kingdom</td>\n",
       "      <td>22</td>\n",
       "      <td>CANDLE</td>\n",
       "    </tr>\n",
       "    <tr>\n",
       "      <th>2</th>\n",
       "      <td>539595</td>\n",
       "      <td>72800B</td>\n",
       "      <td>4 PURPLE FLOCK DINNER CANDLES</td>\n",
       "      <td>2</td>\n",
       "      <td>2010-12-20 13:43:00</td>\n",
       "      <td>5.06</td>\n",
       "      <td>NaN</td>\n",
       "      <td>United Kingdom</td>\n",
       "      <td>22</td>\n",
       "      <td>CANDLE</td>\n",
       "    </tr>\n",
       "    <tr>\n",
       "      <th>3</th>\n",
       "      <td>540247</td>\n",
       "      <td>72800B</td>\n",
       "      <td>4 PURPLE FLOCK DINNER CANDLES</td>\n",
       "      <td>1</td>\n",
       "      <td>2011-01-05 15:56:00</td>\n",
       "      <td>2.55</td>\n",
       "      <td>15464.0</td>\n",
       "      <td>United Kingdom</td>\n",
       "      <td>22</td>\n",
       "      <td>CANDLE</td>\n",
       "    </tr>\n",
       "    <tr>\n",
       "      <th>4</th>\n",
       "      <td>542226</td>\n",
       "      <td>72800B</td>\n",
       "      <td>4 PURPLE FLOCK DINNER CANDLES</td>\n",
       "      <td>1</td>\n",
       "      <td>2011-01-26 13:20:00</td>\n",
       "      <td>2.55</td>\n",
       "      <td>17075.0</td>\n",
       "      <td>United Kingdom</td>\n",
       "      <td>22</td>\n",
       "      <td>CANDLE</td>\n",
       "    </tr>\n",
       "  </tbody>\n",
       "</table>\n",
       "</div>"
      ],
      "text/plain": [
       "   InvoiceNo StockCode                     Description  Quantity  \\\n",
       "0     536522    72800B   4 PURPLE FLOCK DINNER CANDLES         2   \n",
       "1     537044    72800B   4 PURPLE FLOCK DINNER CANDLES        12   \n",
       "2     539595    72800B   4 PURPLE FLOCK DINNER CANDLES         2   \n",
       "3     540247    72800B   4 PURPLE FLOCK DINNER CANDLES         1   \n",
       "4     542226    72800B   4 PURPLE FLOCK DINNER CANDLES         1   \n",
       "\n",
       "           InvoiceDate  UnitPrice  CustomerID         Country  Cluster   Label  \n",
       "0  2010-12-01 12:49:00       2.55     15012.0  United Kingdom       22  CANDLE  \n",
       "1  2010-12-05 10:52:00       2.55     18055.0  United Kingdom       22  CANDLE  \n",
       "2  2010-12-20 13:43:00       5.06         NaN  United Kingdom       22  CANDLE  \n",
       "3  2011-01-05 15:56:00       2.55     15464.0  United Kingdom       22  CANDLE  \n",
       "4  2011-01-26 13:20:00       2.55     17075.0  United Kingdom       22  CANDLE  "
      ]
     },
     "execution_count": 5,
     "metadata": {},
     "output_type": "execute_result"
    }
   ],
   "source": [
    "df_transactions_labeled.head()"
   ]
  },
  {
   "cell_type": "code",
   "execution_count": 6,
   "id": "82cf7a1d-d3ec-4ae0-b6a1-790fef0b5fc0",
   "metadata": {},
   "outputs": [],
   "source": [
    "df_transactions_labeled.to_csv('../data_versions/whole_data.csv', index=False) # save finalized dataset"
   ]
  },
  {
   "cell_type": "code",
   "execution_count": 7,
   "id": "8bf4b355-2a48-40ab-9102-8a487677bbac",
   "metadata": {},
   "outputs": [
    {
     "data": {
      "text/html": [
       "<div>\n",
       "<style scoped>\n",
       "    .dataframe tbody tr th:only-of-type {\n",
       "        vertical-align: middle;\n",
       "    }\n",
       "\n",
       "    .dataframe tbody tr th {\n",
       "        vertical-align: top;\n",
       "    }\n",
       "\n",
       "    .dataframe thead th {\n",
       "        text-align: right;\n",
       "    }\n",
       "</style>\n",
       "<table border=\"1\" class=\"dataframe\">\n",
       "  <thead>\n",
       "    <tr style=\"text-align: right;\">\n",
       "      <th></th>\n",
       "      <th>InvoiceNo</th>\n",
       "      <th>Label</th>\n",
       "    </tr>\n",
       "  </thead>\n",
       "  <tbody>\n",
       "    <tr>\n",
       "      <th>0</th>\n",
       "      <td>536365</td>\n",
       "      <td>[HEART, T-LIGHT, MUG, PINK, BOX, T-LIGHT, CANDLE]</td>\n",
       "    </tr>\n",
       "    <tr>\n",
       "      <th>1</th>\n",
       "      <td>536366</td>\n",
       "      <td>[MUG, MUG]</td>\n",
       "    </tr>\n",
       "    <tr>\n",
       "      <th>2</th>\n",
       "      <td>536367</td>\n",
       "      <td>[EGG, SET, BOX, BOX, HOME, PINK, HOME, MUG, HO...</td>\n",
       "    </tr>\n",
       "    <tr>\n",
       "      <th>3</th>\n",
       "      <td>536368</td>\n",
       "      <td>[STAND, BOX, STAND, STAND]</td>\n",
       "    </tr>\n",
       "    <tr>\n",
       "      <th>4</th>\n",
       "      <td>536369</td>\n",
       "      <td>[HOME]</td>\n",
       "    </tr>\n",
       "  </tbody>\n",
       "</table>\n",
       "</div>"
      ],
      "text/plain": [
       "   InvoiceNo                                              Label\n",
       "0     536365  [HEART, T-LIGHT, MUG, PINK, BOX, T-LIGHT, CANDLE]\n",
       "1     536366                                         [MUG, MUG]\n",
       "2     536367  [EGG, SET, BOX, BOX, HOME, PINK, HOME, MUG, HO...\n",
       "3     536368                         [STAND, BOX, STAND, STAND]\n",
       "4     536369                                             [HOME]"
      ]
     },
     "execution_count": 7,
     "metadata": {},
     "output_type": "execute_result"
    }
   ],
   "source": [
    "df_transactions_grouped = df_transactions_labeled.groupby(\"InvoiceNo\")['Label'].agg(list).reset_index()\n",
    "df_transactions_grouped.head()"
   ]
  },
  {
   "cell_type": "code",
   "execution_count": 8,
   "id": "6da71a01-993b-4177-b62d-4ee822ede718",
   "metadata": {},
   "outputs": [
    {
     "data": {
      "text/plain": [
       "['MUG', 'GLASS', 'DRAWER', 'CUSHION', 'WRAP']"
      ]
     },
     "execution_count": 8,
     "metadata": {},
     "output_type": "execute_result"
    }
   ],
   "source": [
    "# generate size 2 itemsets\n",
    "labels = list(df_labels['Label'])\n",
    "labels[:5]"
   ]
  },
  {
   "cell_type": "code",
   "execution_count": 9,
   "id": "4290123c-b267-4916-a27e-b64fbb1b2f2a",
   "metadata": {},
   "outputs": [
    {
     "data": {
      "text/plain": [
       "[('BAG', 'BOX'),\n",
       " ('BAG', 'CANDLE'),\n",
       " ('BAG', 'CARD'),\n",
       " ('BAG', 'CHRISTMAS'),\n",
       " ('BAG', 'CLOCK')]"
      ]
     },
     "execution_count": 9,
     "metadata": {},
     "output_type": "execute_result"
    }
   ],
   "source": [
    "result = list(combinations(sorted(labels), 2))\n",
    "result[:5]"
   ]
  },
  {
   "cell_type": "code",
   "execution_count": 10,
   "id": "980b4b0f-bf58-49c4-b15f-2bee23e3646c",
   "metadata": {},
   "outputs": [],
   "source": [
    "# construct dictionary that will hold all 2-itemsets and their \"count\"\n",
    "rules_count = {}\n",
    "for r in result:\n",
    "    rules_count.update({r: 0})"
   ]
  },
  {
   "cell_type": "code",
   "execution_count": 11,
   "id": "672f9035-3601-4716-8f42-343f9bdce6dd",
   "metadata": {},
   "outputs": [],
   "source": [
    "#iterate through the dataset and update rule counts accordingly\n",
    "for row in range(df_transactions_grouped.shape[0]):\n",
    "    t = df_transactions_grouped.iloc[row, 1]\n",
    "    itemsets = combinations(sorted(t), 2)\n",
    "    for i in itemsets:\n",
    "        if len(set(i)) > 1: #ignore when 2 items from same cluster are bought\n",
    "            rules_count[i] += 1"
   ]
  },
  {
   "cell_type": "code",
   "execution_count": 12,
   "id": "fc13c50b-61af-4d03-85cb-527997ee95bd",
   "metadata": {},
   "outputs": [
    {
     "data": {
      "text/plain": [
       "[414945, 125245, 104736, 153349, 33943]"
      ]
     },
     "execution_count": 12,
     "metadata": {},
     "output_type": "execute_result"
    }
   ],
   "source": [
    "# extract rule frequencies\n",
    "rules_strength = [rules_count[rule] for rule in rules_count]\n",
    "rules_strength[:5]"
   ]
  },
  {
   "cell_type": "code",
   "execution_count": 13,
   "id": "1b508213-394a-476d-b3ff-9383e776a9c9",
   "metadata": {},
   "outputs": [],
   "source": [
    "# calculate proportion of transactions that a given rule appears in - this will be the 'strength' factor\n",
    "rules_strength_array = np.array(rules_strength)\n",
    "rules_strength_prop = rules_strength_array / df_transactions_grouped.shape[0]"
   ]
  },
  {
   "cell_type": "code",
   "execution_count": 14,
   "id": "b593ba44-c6bd-4f5c-b749-57d92f67a4a3",
   "metadata": {},
   "outputs": [],
   "source": [
    "# save rules and their strength to csv\n",
    "df_rule_strengths = pd.DataFrame(\n",
    "    {\n",
    "        'Rule': list(rules_count.keys()),\n",
    "        'Strength': rules_strength_prop\n",
    "    }\n",
    ")"
   ]
  },
  {
   "cell_type": "code",
   "execution_count": 15,
   "id": "3fce9edb-9ccb-4497-ac4b-b2b2261fee75",
   "metadata": {},
   "outputs": [],
   "source": [
    "df_rule_strengths.to_csv('../data_versions/rules_strengths.csv', index=False)"
   ]
  },
  {
   "cell_type": "markdown",
   "id": "82f249a6-e6c5-4087-a271-0df938611e22",
   "metadata": {},
   "source": [
    "<h1>ARM for products</h1>"
   ]
  },
  {
   "cell_type": "code",
   "execution_count": 16,
   "id": "0289a450-b091-4b1b-ad3e-843691fd5956",
   "metadata": {},
   "outputs": [
    {
     "data": {
      "text/html": [
       "<div>\n",
       "<style scoped>\n",
       "    .dataframe tbody tr th:only-of-type {\n",
       "        vertical-align: middle;\n",
       "    }\n",
       "\n",
       "    .dataframe tbody tr th {\n",
       "        vertical-align: top;\n",
       "    }\n",
       "\n",
       "    .dataframe thead th {\n",
       "        text-align: right;\n",
       "    }\n",
       "</style>\n",
       "<table border=\"1\" class=\"dataframe\">\n",
       "  <thead>\n",
       "    <tr style=\"text-align: right;\">\n",
       "      <th></th>\n",
       "      <th>InvoiceNo</th>\n",
       "      <th>Description</th>\n",
       "    </tr>\n",
       "  </thead>\n",
       "  <tbody>\n",
       "    <tr>\n",
       "      <th>0</th>\n",
       "      <td>536365</td>\n",
       "      <td>[CREAM CUPID HEARTS COAT HANGER, GLASS STAR FR...</td>\n",
       "    </tr>\n",
       "    <tr>\n",
       "      <th>1</th>\n",
       "      <td>536366</td>\n",
       "      <td>[HAND WARMER RED POLKA DOT, HAND WARMER UNION ...</td>\n",
       "    </tr>\n",
       "    <tr>\n",
       "      <th>2</th>\n",
       "      <td>536367</td>\n",
       "      <td>[ASSORTED COLOUR BIRD ORNAMENT, BOX OF 6 ASSOR...</td>\n",
       "    </tr>\n",
       "    <tr>\n",
       "      <th>3</th>\n",
       "      <td>536368</td>\n",
       "      <td>[BLUE COAT RACK PARIS FASHION, JAM MAKING SET ...</td>\n",
       "    </tr>\n",
       "    <tr>\n",
       "      <th>4</th>\n",
       "      <td>536369</td>\n",
       "      <td>[BATH BUILDING BLOCK WORD]</td>\n",
       "    </tr>\n",
       "  </tbody>\n",
       "</table>\n",
       "</div>"
      ],
      "text/plain": [
       "   InvoiceNo                                        Description\n",
       "0     536365  [CREAM CUPID HEARTS COAT HANGER, GLASS STAR FR...\n",
       "1     536366  [HAND WARMER RED POLKA DOT, HAND WARMER UNION ...\n",
       "2     536367  [ASSORTED COLOUR BIRD ORNAMENT, BOX OF 6 ASSOR...\n",
       "3     536368  [BLUE COAT RACK PARIS FASHION, JAM MAKING SET ...\n",
       "4     536369                         [BATH BUILDING BLOCK WORD]"
      ]
     },
     "execution_count": 16,
     "metadata": {},
     "output_type": "execute_result"
    }
   ],
   "source": [
    "basket = (df_transactions_labeled\n",
    "          .groupby(\"InvoiceNo\")[\"Description\"]\n",
    "          .apply(lambda items: sorted(set(items)))       \n",
    "          .reset_index())\n",
    "\n",
    "basket.head()"
   ]
  },
  {
   "cell_type": "code",
   "execution_count": 17,
   "id": "39af6cef-050a-42fc-bbf4-8bfc77c6d11e",
   "metadata": {},
   "outputs": [],
   "source": [
    "# 3. Convert to one‑hot encoded matrix for Apriori\n",
    "# explode so each row = one (invoice, label) pair\n",
    "explode = basket.explode(\"Description\")\n",
    "\n",
    "# one‑hot encode\n",
    "basket_ohe = (explode\n",
    "              .assign(value=1)\n",
    "              .pivot_table(index=\"InvoiceNo\",\n",
    "                           columns=\"Description\",\n",
    "                           values=\"value\",\n",
    "                           fill_value=0)\n",
    "             )"
   ]
  },
  {
   "cell_type": "code",
   "execution_count": 18,
   "id": "c5205b95-628e-4ffd-8f4c-1e2e2499d399",
   "metadata": {},
   "outputs": [
    {
     "name": "stderr",
     "output_type": "stream",
     "text": [
      "/home/sea2002/miniconda3/envs/tfgpu2/lib/python3.12/site-packages/mlxtend/frequent_patterns/fpcommon.py:161: DeprecationWarning: DataFrames with non-bool types result in worse computationalperformance and their support might be discontinued in the future.Please use a DataFrame with bool type\n",
      "  warnings.warn(\n"
     ]
    }
   ],
   "source": [
    "# 4. Frequent itemsets & association rules\n",
    "freq_sets = apriori(basket_ohe,\n",
    "                    min_support=0.025,\n",
    "                    use_colnames=True)"
   ]
  },
  {
   "cell_type": "code",
   "execution_count": 19,
   "id": "2a13f4e8-ca7d-40c2-912c-2e138e127a93",
   "metadata": {},
   "outputs": [
    {
     "data": {
      "text/plain": [
       "(213, 2)"
      ]
     },
     "execution_count": 19,
     "metadata": {},
     "output_type": "execute_result"
    }
   ],
   "source": [
    "freq_sets.shape"
   ]
  },
  {
   "cell_type": "code",
   "execution_count": 20,
   "id": "009400fd-7311-4ebc-8f29-4931c6e9c03f",
   "metadata": {},
   "outputs": [],
   "source": [
    "# generate rules with minimum confidence threshold\n",
    "rules = association_rules(freq_sets,\n",
    "                          metric=\"confidence\",\n",
    "                          min_threshold=0.35)   # adjust as desired"
   ]
  },
  {
   "cell_type": "code",
   "execution_count": 21,
   "id": "e525d8a3-d264-4a68-b6ca-cddafde9bba4",
   "metadata": {},
   "outputs": [
    {
     "data": {
      "text/plain": [
       "(58, 14)"
      ]
     },
     "execution_count": 21,
     "metadata": {},
     "output_type": "execute_result"
    }
   ],
   "source": [
    "rules.shape"
   ]
  },
  {
   "cell_type": "code",
   "execution_count": 22,
   "id": "2037bde7-5d40-47f6-b199-5384009830c8",
   "metadata": {},
   "outputs": [],
   "source": [
    "rules.to_csv(\"../data_versions/raw_rules.csv\", index=False)"
   ]
  },
  {
   "cell_type": "code",
   "execution_count": 23,
   "id": "0729f44d-4b93-442b-8a37-958d1d9f75cb",
   "metadata": {},
   "outputs": [
    {
     "data": {
      "text/html": [
       "<div>\n",
       "<style scoped>\n",
       "    .dataframe tbody tr th:only-of-type {\n",
       "        vertical-align: middle;\n",
       "    }\n",
       "\n",
       "    .dataframe tbody tr th {\n",
       "        vertical-align: top;\n",
       "    }\n",
       "\n",
       "    .dataframe thead th {\n",
       "        text-align: right;\n",
       "    }\n",
       "</style>\n",
       "<table border=\"1\" class=\"dataframe\">\n",
       "  <thead>\n",
       "    <tr style=\"text-align: right;\">\n",
       "      <th></th>\n",
       "      <th>antecedents</th>\n",
       "      <th>consequents</th>\n",
       "    </tr>\n",
       "  </thead>\n",
       "  <tbody>\n",
       "    <tr>\n",
       "      <th>0</th>\n",
       "      <td>(ALARM CLOCK BAKELIKE RED )</td>\n",
       "      <td>(ALARM CLOCK BAKELIKE GREEN)</td>\n",
       "    </tr>\n",
       "    <tr>\n",
       "      <th>1</th>\n",
       "      <td>(ALARM CLOCK BAKELIKE GREEN)</td>\n",
       "      <td>(ALARM CLOCK BAKELIKE RED )</td>\n",
       "    </tr>\n",
       "    <tr>\n",
       "      <th>2</th>\n",
       "      <td>(CHARLOTTE BAG PINK POLKADOT)</td>\n",
       "      <td>(RED RETROSPOT CHARLOTTE BAG)</td>\n",
       "    </tr>\n",
       "    <tr>\n",
       "      <th>3</th>\n",
       "      <td>(RED RETROSPOT CHARLOTTE BAG)</td>\n",
       "      <td>(CHARLOTTE BAG PINK POLKADOT)</td>\n",
       "    </tr>\n",
       "    <tr>\n",
       "      <th>4</th>\n",
       "      <td>(SPACEBOY LUNCH BOX )</td>\n",
       "      <td>(DOLLY GIRL LUNCH BOX)</td>\n",
       "    </tr>\n",
       "  </tbody>\n",
       "</table>\n",
       "</div>"
      ],
      "text/plain": [
       "                     antecedents                    consequents\n",
       "0    (ALARM CLOCK BAKELIKE RED )   (ALARM CLOCK BAKELIKE GREEN)\n",
       "1   (ALARM CLOCK BAKELIKE GREEN)    (ALARM CLOCK BAKELIKE RED )\n",
       "2  (CHARLOTTE BAG PINK POLKADOT)  (RED RETROSPOT CHARLOTTE BAG)\n",
       "3  (RED RETROSPOT CHARLOTTE BAG)  (CHARLOTTE BAG PINK POLKADOT)\n",
       "4          (SPACEBOY LUNCH BOX )         (DOLLY GIRL LUNCH BOX)"
      ]
     },
     "execution_count": 23,
     "metadata": {},
     "output_type": "execute_result"
    }
   ],
   "source": [
    "rules2 = rules.iloc[:, [0,1]]\n",
    "rules2.head()"
   ]
  },
  {
   "cell_type": "code",
   "execution_count": 29,
   "id": "58ea7ab6-a16e-47ce-8f90-f6c9c5d5e3b1",
   "metadata": {},
   "outputs": [
    {
     "data": {
      "text/html": [
       "<div>\n",
       "<style scoped>\n",
       "    .dataframe tbody tr th:only-of-type {\n",
       "        vertical-align: middle;\n",
       "    }\n",
       "\n",
       "    .dataframe tbody tr th {\n",
       "        vertical-align: top;\n",
       "    }\n",
       "\n",
       "    .dataframe thead th {\n",
       "        text-align: right;\n",
       "    }\n",
       "</style>\n",
       "<table border=\"1\" class=\"dataframe\">\n",
       "  <thead>\n",
       "    <tr style=\"text-align: right;\">\n",
       "      <th></th>\n",
       "      <th>InvoiceNo</th>\n",
       "      <th>StockCode</th>\n",
       "      <th>Description</th>\n",
       "      <th>Quantity</th>\n",
       "      <th>InvoiceDate</th>\n",
       "      <th>UnitPrice</th>\n",
       "      <th>CustomerID</th>\n",
       "      <th>Country</th>\n",
       "    </tr>\n",
       "  </thead>\n",
       "  <tbody>\n",
       "    <tr>\n",
       "      <th>0</th>\n",
       "      <td>536365</td>\n",
       "      <td>85123A</td>\n",
       "      <td>WHITE HANGING HEART T-LIGHT HOLDER</td>\n",
       "      <td>6</td>\n",
       "      <td>2010-12-01 08:26:00</td>\n",
       "      <td>2.55</td>\n",
       "      <td>17850.0</td>\n",
       "      <td>United Kingdom</td>\n",
       "    </tr>\n",
       "    <tr>\n",
       "      <th>1</th>\n",
       "      <td>536365</td>\n",
       "      <td>71053</td>\n",
       "      <td>WHITE METAL LANTERN</td>\n",
       "      <td>6</td>\n",
       "      <td>2010-12-01 08:26:00</td>\n",
       "      <td>3.39</td>\n",
       "      <td>17850.0</td>\n",
       "      <td>United Kingdom</td>\n",
       "    </tr>\n",
       "    <tr>\n",
       "      <th>2</th>\n",
       "      <td>536365</td>\n",
       "      <td>84406B</td>\n",
       "      <td>CREAM CUPID HEARTS COAT HANGER</td>\n",
       "      <td>8</td>\n",
       "      <td>2010-12-01 08:26:00</td>\n",
       "      <td>2.75</td>\n",
       "      <td>17850.0</td>\n",
       "      <td>United Kingdom</td>\n",
       "    </tr>\n",
       "    <tr>\n",
       "      <th>3</th>\n",
       "      <td>536365</td>\n",
       "      <td>84029G</td>\n",
       "      <td>KNITTED UNION FLAG HOT WATER BOTTLE</td>\n",
       "      <td>6</td>\n",
       "      <td>2010-12-01 08:26:00</td>\n",
       "      <td>3.39</td>\n",
       "      <td>17850.0</td>\n",
       "      <td>United Kingdom</td>\n",
       "    </tr>\n",
       "    <tr>\n",
       "      <th>4</th>\n",
       "      <td>536365</td>\n",
       "      <td>84029E</td>\n",
       "      <td>RED WOOLLY HOTTIE WHITE HEART.</td>\n",
       "      <td>6</td>\n",
       "      <td>2010-12-01 08:26:00</td>\n",
       "      <td>3.39</td>\n",
       "      <td>17850.0</td>\n",
       "      <td>United Kingdom</td>\n",
       "    </tr>\n",
       "  </tbody>\n",
       "</table>\n",
       "</div>"
      ],
      "text/plain": [
       "   InvoiceNo StockCode                          Description  Quantity  \\\n",
       "0     536365    85123A   WHITE HANGING HEART T-LIGHT HOLDER         6   \n",
       "1     536365     71053                  WHITE METAL LANTERN         6   \n",
       "2     536365    84406B       CREAM CUPID HEARTS COAT HANGER         8   \n",
       "3     536365    84029G  KNITTED UNION FLAG HOT WATER BOTTLE         6   \n",
       "4     536365    84029E       RED WOOLLY HOTTIE WHITE HEART.         6   \n",
       "\n",
       "           InvoiceDate  UnitPrice  CustomerID         Country  \n",
       "0  2010-12-01 08:26:00       2.55     17850.0  United Kingdom  \n",
       "1  2010-12-01 08:26:00       3.39     17850.0  United Kingdom  \n",
       "2  2010-12-01 08:26:00       2.75     17850.0  United Kingdom  \n",
       "3  2010-12-01 08:26:00       3.39     17850.0  United Kingdom  \n",
       "4  2010-12-01 08:26:00       3.39     17850.0  United Kingdom  "
      ]
     },
     "execution_count": 29,
     "metadata": {},
     "output_type": "execute_result"
    }
   ],
   "source": [
    "df_transactions.head()"
   ]
  },
  {
   "cell_type": "code",
   "execution_count": 24,
   "id": "63ef9947-5f80-470b-89b7-737379c69b7f",
   "metadata": {},
   "outputs": [
    {
     "name": "stderr",
     "output_type": "stream",
     "text": [
      "/tmp/ipykernel_24211/2602213243.py:1: SettingWithCopyWarning: \n",
      "A value is trying to be set on a copy of a slice from a DataFrame.\n",
      "Try using .loc[row_indexer,col_indexer] = value instead\n",
      "\n",
      "See the caveats in the documentation: https://pandas.pydata.org/pandas-docs/stable/user_guide/indexing.html#returning-a-view-versus-a-copy\n",
      "  rules2['ante_cluster'] = [list(df_products_labeled.loc[df_products_labeled.Description==list(s)[0], 'Label'])[0] for s in rules2.antecedents]\n",
      "/tmp/ipykernel_24211/2602213243.py:2: SettingWithCopyWarning: \n",
      "A value is trying to be set on a copy of a slice from a DataFrame.\n",
      "Try using .loc[row_indexer,col_indexer] = value instead\n",
      "\n",
      "See the caveats in the documentation: https://pandas.pydata.org/pandas-docs/stable/user_guide/indexing.html#returning-a-view-versus-a-copy\n",
      "  rules2['conse_cluster'] = [list(df_products_labeled.loc[df_products_labeled.Description==list(s)[0], 'Label'])[0] for s in rules2.consequents]\n"
     ]
    }
   ],
   "source": [
    "rules2['ante_cluster'] = [list(df_products_labeled.loc[df_products_labeled.Description==list(s)[0], 'Label'])[0] for s in rules2.antecedents]\n",
    "rules2['conse_cluster'] = [list(df_products_labeled.loc[df_products_labeled.Description==list(s)[0], 'Label'])[0] for s in rules2.consequents]"
   ]
  },
  {
   "cell_type": "code",
   "execution_count": 25,
   "id": "8b2b97be-5bca-49d2-924a-caf6031d6789",
   "metadata": {},
   "outputs": [
    {
     "name": "stderr",
     "output_type": "stream",
     "text": [
      "/tmp/ipykernel_24211/3857742367.py:1: SettingWithCopyWarning: \n",
      "A value is trying to be set on a copy of a slice from a DataFrame.\n",
      "Try using .loc[row_indexer,col_indexer] = value instead\n",
      "\n",
      "See the caveats in the documentation: https://pandas.pydata.org/pandas-docs/stable/user_guide/indexing.html#returning-a-view-versus-a-copy\n",
      "  rules2['cluster_rel'] = rules2.ante_cluster + ' ' + rules2.conse_cluster\n"
     ]
    }
   ],
   "source": [
    "rules2['cluster_rel'] = rules2.ante_cluster + ' ' + rules2.conse_cluster"
   ]
  },
  {
   "cell_type": "code",
   "execution_count": 26,
   "id": "e71bd57b-e677-48e6-9010-e73e5e8c4d18",
   "metadata": {},
   "outputs": [
    {
     "data": {
      "text/plain": [
       "array(['CLOCK CLOCK', 'BAG HOME', 'HOME BAG', 'BOX BOX', 'FLOWER FLOWER',\n",
       "       'MUG MUG', 'BAG BAG', 'HOME HOME', 'BOX HOME', 'HOME BOX',\n",
       "       'WRAP WRAP', 'MUG STAND', 'WALL WALL'], dtype=object)"
      ]
     },
     "execution_count": 26,
     "metadata": {},
     "output_type": "execute_result"
    }
   ],
   "source": [
    "pd.unique(rules2.cluster_rel)"
   ]
  },
  {
   "cell_type": "code",
   "execution_count": 27,
   "id": "ddda3a9a-9d4a-4129-ac84-e4d0ab3936ed",
   "metadata": {},
   "outputs": [
    {
     "data": {
      "text/html": [
       "<div>\n",
       "<style scoped>\n",
       "    .dataframe tbody tr th:only-of-type {\n",
       "        vertical-align: middle;\n",
       "    }\n",
       "\n",
       "    .dataframe tbody tr th {\n",
       "        vertical-align: top;\n",
       "    }\n",
       "\n",
       "    .dataframe thead th {\n",
       "        text-align: right;\n",
       "    }\n",
       "</style>\n",
       "<table border=\"1\" class=\"dataframe\">\n",
       "  <thead>\n",
       "    <tr style=\"text-align: right;\">\n",
       "      <th></th>\n",
       "      <th>antecedents</th>\n",
       "      <th>consequents</th>\n",
       "      <th>ante_cluster</th>\n",
       "      <th>conse_cluster</th>\n",
       "      <th>cluster_rel</th>\n",
       "    </tr>\n",
       "  </thead>\n",
       "  <tbody>\n",
       "    <tr>\n",
       "      <th>0</th>\n",
       "      <td>(ALARM CLOCK BAKELIKE RED )</td>\n",
       "      <td>(ALARM CLOCK BAKELIKE GREEN)</td>\n",
       "      <td>CLOCK</td>\n",
       "      <td>CLOCK</td>\n",
       "      <td>CLOCK CLOCK</td>\n",
       "    </tr>\n",
       "    <tr>\n",
       "      <th>1</th>\n",
       "      <td>(ALARM CLOCK BAKELIKE GREEN)</td>\n",
       "      <td>(ALARM CLOCK BAKELIKE RED )</td>\n",
       "      <td>CLOCK</td>\n",
       "      <td>CLOCK</td>\n",
       "      <td>CLOCK CLOCK</td>\n",
       "    </tr>\n",
       "    <tr>\n",
       "      <th>2</th>\n",
       "      <td>(CHARLOTTE BAG PINK POLKADOT)</td>\n",
       "      <td>(RED RETROSPOT CHARLOTTE BAG)</td>\n",
       "      <td>BAG</td>\n",
       "      <td>HOME</td>\n",
       "      <td>BAG HOME</td>\n",
       "    </tr>\n",
       "    <tr>\n",
       "      <th>3</th>\n",
       "      <td>(RED RETROSPOT CHARLOTTE BAG)</td>\n",
       "      <td>(CHARLOTTE BAG PINK POLKADOT)</td>\n",
       "      <td>HOME</td>\n",
       "      <td>BAG</td>\n",
       "      <td>HOME BAG</td>\n",
       "    </tr>\n",
       "    <tr>\n",
       "      <th>4</th>\n",
       "      <td>(SPACEBOY LUNCH BOX )</td>\n",
       "      <td>(DOLLY GIRL LUNCH BOX)</td>\n",
       "      <td>BOX</td>\n",
       "      <td>BOX</td>\n",
       "      <td>BOX BOX</td>\n",
       "    </tr>\n",
       "  </tbody>\n",
       "</table>\n",
       "</div>"
      ],
      "text/plain": [
       "                     antecedents                    consequents ante_cluster  \\\n",
       "0    (ALARM CLOCK BAKELIKE RED )   (ALARM CLOCK BAKELIKE GREEN)        CLOCK   \n",
       "1   (ALARM CLOCK BAKELIKE GREEN)    (ALARM CLOCK BAKELIKE RED )        CLOCK   \n",
       "2  (CHARLOTTE BAG PINK POLKADOT)  (RED RETROSPOT CHARLOTTE BAG)          BAG   \n",
       "3  (RED RETROSPOT CHARLOTTE BAG)  (CHARLOTTE BAG PINK POLKADOT)         HOME   \n",
       "4          (SPACEBOY LUNCH BOX )         (DOLLY GIRL LUNCH BOX)          BOX   \n",
       "\n",
       "  conse_cluster  cluster_rel  \n",
       "0         CLOCK  CLOCK CLOCK  \n",
       "1         CLOCK  CLOCK CLOCK  \n",
       "2          HOME     BAG HOME  \n",
       "3           BAG     HOME BAG  \n",
       "4           BOX      BOX BOX  "
      ]
     },
     "execution_count": 27,
     "metadata": {},
     "output_type": "execute_result"
    }
   ],
   "source": [
    "rules2.head()"
   ]
  }
 ],
 "metadata": {
  "kernelspec": {
   "display_name": "Python (tfgpu2)",
   "language": "python",
   "name": "tfgpu2"
  },
  "language_info": {
   "codemirror_mode": {
    "name": "ipython",
    "version": 3
   },
   "file_extension": ".py",
   "mimetype": "text/x-python",
   "name": "python",
   "nbconvert_exporter": "python",
   "pygments_lexer": "ipython3",
   "version": "3.12.8"
  }
 },
 "nbformat": 4,
 "nbformat_minor": 5
}
