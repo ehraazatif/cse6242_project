{
 "cells": [
  {
   "cell_type": "code",
   "execution_count": 1,
   "id": "5c664820-98a7-4d73-a114-033480ae4441",
   "metadata": {},
   "outputs": [],
   "source": [
    "import pandas as pd\n",
    "import numpy as np\n",
    "import re"
   ]
  },
  {
   "cell_type": "code",
   "execution_count": 2,
   "id": "ba4e02c2-b4cc-4234-bdc4-f5ad38c31a41",
   "metadata": {},
   "outputs": [],
   "source": [
    "df = pd.read_excel(\"../data_versions/Online Retail(1).xlsx\")"
   ]
  },
  {
   "cell_type": "code",
   "execution_count": 3,
   "id": "b59cc0e5-573c-45f3-88d1-fa65aea61d06",
   "metadata": {},
   "outputs": [
    {
     "data": {
      "text/html": [
       "<div>\n",
       "<style scoped>\n",
       "    .dataframe tbody tr th:only-of-type {\n",
       "        vertical-align: middle;\n",
       "    }\n",
       "\n",
       "    .dataframe tbody tr th {\n",
       "        vertical-align: top;\n",
       "    }\n",
       "\n",
       "    .dataframe thead th {\n",
       "        text-align: right;\n",
       "    }\n",
       "</style>\n",
       "<table border=\"1\" class=\"dataframe\">\n",
       "  <thead>\n",
       "    <tr style=\"text-align: right;\">\n",
       "      <th></th>\n",
       "      <th>InvoiceNo</th>\n",
       "      <th>StockCode</th>\n",
       "      <th>Description</th>\n",
       "      <th>Quantity</th>\n",
       "      <th>InvoiceDate</th>\n",
       "      <th>UnitPrice</th>\n",
       "      <th>CustomerID</th>\n",
       "      <th>Country</th>\n",
       "    </tr>\n",
       "  </thead>\n",
       "  <tbody>\n",
       "    <tr>\n",
       "      <th>0</th>\n",
       "      <td>536365</td>\n",
       "      <td>85123A</td>\n",
       "      <td>WHITE HANGING HEART T-LIGHT HOLDER</td>\n",
       "      <td>6</td>\n",
       "      <td>2010-12-01 08:26:00</td>\n",
       "      <td>2.55</td>\n",
       "      <td>17850.0</td>\n",
       "      <td>United Kingdom</td>\n",
       "    </tr>\n",
       "    <tr>\n",
       "      <th>1</th>\n",
       "      <td>536365</td>\n",
       "      <td>71053</td>\n",
       "      <td>WHITE METAL LANTERN</td>\n",
       "      <td>6</td>\n",
       "      <td>2010-12-01 08:26:00</td>\n",
       "      <td>3.39</td>\n",
       "      <td>17850.0</td>\n",
       "      <td>United Kingdom</td>\n",
       "    </tr>\n",
       "    <tr>\n",
       "      <th>2</th>\n",
       "      <td>536365</td>\n",
       "      <td>84406B</td>\n",
       "      <td>CREAM CUPID HEARTS COAT HANGER</td>\n",
       "      <td>8</td>\n",
       "      <td>2010-12-01 08:26:00</td>\n",
       "      <td>2.75</td>\n",
       "      <td>17850.0</td>\n",
       "      <td>United Kingdom</td>\n",
       "    </tr>\n",
       "    <tr>\n",
       "      <th>3</th>\n",
       "      <td>536365</td>\n",
       "      <td>84029G</td>\n",
       "      <td>KNITTED UNION FLAG HOT WATER BOTTLE</td>\n",
       "      <td>6</td>\n",
       "      <td>2010-12-01 08:26:00</td>\n",
       "      <td>3.39</td>\n",
       "      <td>17850.0</td>\n",
       "      <td>United Kingdom</td>\n",
       "    </tr>\n",
       "    <tr>\n",
       "      <th>4</th>\n",
       "      <td>536365</td>\n",
       "      <td>84029E</td>\n",
       "      <td>RED WOOLLY HOTTIE WHITE HEART.</td>\n",
       "      <td>6</td>\n",
       "      <td>2010-12-01 08:26:00</td>\n",
       "      <td>3.39</td>\n",
       "      <td>17850.0</td>\n",
       "      <td>United Kingdom</td>\n",
       "    </tr>\n",
       "  </tbody>\n",
       "</table>\n",
       "</div>"
      ],
      "text/plain": [
       "  InvoiceNo StockCode                          Description  Quantity  \\\n",
       "0    536365    85123A   WHITE HANGING HEART T-LIGHT HOLDER         6   \n",
       "1    536365     71053                  WHITE METAL LANTERN         6   \n",
       "2    536365    84406B       CREAM CUPID HEARTS COAT HANGER         8   \n",
       "3    536365    84029G  KNITTED UNION FLAG HOT WATER BOTTLE         6   \n",
       "4    536365    84029E       RED WOOLLY HOTTIE WHITE HEART.         6   \n",
       "\n",
       "          InvoiceDate  UnitPrice  CustomerID         Country  \n",
       "0 2010-12-01 08:26:00       2.55     17850.0  United Kingdom  \n",
       "1 2010-12-01 08:26:00       3.39     17850.0  United Kingdom  \n",
       "2 2010-12-01 08:26:00       2.75     17850.0  United Kingdom  \n",
       "3 2010-12-01 08:26:00       3.39     17850.0  United Kingdom  \n",
       "4 2010-12-01 08:26:00       3.39     17850.0  United Kingdom  "
      ]
     },
     "execution_count": 3,
     "metadata": {},
     "output_type": "execute_result"
    }
   ],
   "source": [
    "df.head()"
   ]
  },
  {
   "cell_type": "code",
   "execution_count": 4,
   "id": "af05c123-99f3-44f3-b521-79a01cfd8a95",
   "metadata": {},
   "outputs": [
    {
     "name": "stdout",
     "output_type": "stream",
     "text": [
      "<class 'pandas.core.frame.DataFrame'>\n",
      "RangeIndex: 541909 entries, 0 to 541908\n",
      "Data columns (total 8 columns):\n",
      " #   Column       Non-Null Count   Dtype         \n",
      "---  ------       --------------   -----         \n",
      " 0   InvoiceNo    541909 non-null  object        \n",
      " 1   StockCode    541909 non-null  object        \n",
      " 2   Description  540455 non-null  object        \n",
      " 3   Quantity     541909 non-null  int64         \n",
      " 4   InvoiceDate  541909 non-null  datetime64[ns]\n",
      " 5   UnitPrice    541909 non-null  float64       \n",
      " 6   CustomerID   406829 non-null  float64       \n",
      " 7   Country      541909 non-null  object        \n",
      "dtypes: datetime64[ns](1), float64(2), int64(1), object(4)\n",
      "memory usage: 33.1+ MB\n"
     ]
    }
   ],
   "source": [
    "df.info()"
   ]
  },
  {
   "cell_type": "code",
   "execution_count": 5,
   "id": "2200a829-a55c-4840-b9c9-9730c176e1a5",
   "metadata": {},
   "outputs": [
    {
     "data": {
      "text/html": [
       "<div>\n",
       "<style scoped>\n",
       "    .dataframe tbody tr th:only-of-type {\n",
       "        vertical-align: middle;\n",
       "    }\n",
       "\n",
       "    .dataframe tbody tr th {\n",
       "        vertical-align: top;\n",
       "    }\n",
       "\n",
       "    .dataframe thead th {\n",
       "        text-align: right;\n",
       "    }\n",
       "</style>\n",
       "<table border=\"1\" class=\"dataframe\">\n",
       "  <thead>\n",
       "    <tr style=\"text-align: right;\">\n",
       "      <th></th>\n",
       "      <th>InvoiceNo</th>\n",
       "      <th>StockCode</th>\n",
       "      <th>Description</th>\n",
       "      <th>Quantity</th>\n",
       "      <th>InvoiceDate</th>\n",
       "      <th>UnitPrice</th>\n",
       "      <th>CustomerID</th>\n",
       "      <th>Country</th>\n",
       "    </tr>\n",
       "  </thead>\n",
       "  <tbody>\n",
       "    <tr>\n",
       "      <th>622</th>\n",
       "      <td>536414</td>\n",
       "      <td>22139</td>\n",
       "      <td>NaN</td>\n",
       "      <td>56</td>\n",
       "      <td>2010-12-01 11:52:00</td>\n",
       "      <td>0.0</td>\n",
       "      <td>NaN</td>\n",
       "      <td>United Kingdom</td>\n",
       "    </tr>\n",
       "    <tr>\n",
       "      <th>1970</th>\n",
       "      <td>536545</td>\n",
       "      <td>21134</td>\n",
       "      <td>NaN</td>\n",
       "      <td>1</td>\n",
       "      <td>2010-12-01 14:32:00</td>\n",
       "      <td>0.0</td>\n",
       "      <td>NaN</td>\n",
       "      <td>United Kingdom</td>\n",
       "    </tr>\n",
       "    <tr>\n",
       "      <th>1971</th>\n",
       "      <td>536546</td>\n",
       "      <td>22145</td>\n",
       "      <td>NaN</td>\n",
       "      <td>1</td>\n",
       "      <td>2010-12-01 14:33:00</td>\n",
       "      <td>0.0</td>\n",
       "      <td>NaN</td>\n",
       "      <td>United Kingdom</td>\n",
       "    </tr>\n",
       "    <tr>\n",
       "      <th>1972</th>\n",
       "      <td>536547</td>\n",
       "      <td>37509</td>\n",
       "      <td>NaN</td>\n",
       "      <td>1</td>\n",
       "      <td>2010-12-01 14:33:00</td>\n",
       "      <td>0.0</td>\n",
       "      <td>NaN</td>\n",
       "      <td>United Kingdom</td>\n",
       "    </tr>\n",
       "    <tr>\n",
       "      <th>1987</th>\n",
       "      <td>536549</td>\n",
       "      <td>85226A</td>\n",
       "      <td>NaN</td>\n",
       "      <td>1</td>\n",
       "      <td>2010-12-01 14:34:00</td>\n",
       "      <td>0.0</td>\n",
       "      <td>NaN</td>\n",
       "      <td>United Kingdom</td>\n",
       "    </tr>\n",
       "    <tr>\n",
       "      <th>...</th>\n",
       "      <td>...</td>\n",
       "      <td>...</td>\n",
       "      <td>...</td>\n",
       "      <td>...</td>\n",
       "      <td>...</td>\n",
       "      <td>...</td>\n",
       "      <td>...</td>\n",
       "      <td>...</td>\n",
       "    </tr>\n",
       "    <tr>\n",
       "      <th>535322</th>\n",
       "      <td>581199</td>\n",
       "      <td>84581</td>\n",
       "      <td>NaN</td>\n",
       "      <td>-2</td>\n",
       "      <td>2011-12-07 18:26:00</td>\n",
       "      <td>0.0</td>\n",
       "      <td>NaN</td>\n",
       "      <td>United Kingdom</td>\n",
       "    </tr>\n",
       "    <tr>\n",
       "      <th>535326</th>\n",
       "      <td>581203</td>\n",
       "      <td>23406</td>\n",
       "      <td>NaN</td>\n",
       "      <td>15</td>\n",
       "      <td>2011-12-07 18:31:00</td>\n",
       "      <td>0.0</td>\n",
       "      <td>NaN</td>\n",
       "      <td>United Kingdom</td>\n",
       "    </tr>\n",
       "    <tr>\n",
       "      <th>535332</th>\n",
       "      <td>581209</td>\n",
       "      <td>21620</td>\n",
       "      <td>NaN</td>\n",
       "      <td>6</td>\n",
       "      <td>2011-12-07 18:35:00</td>\n",
       "      <td>0.0</td>\n",
       "      <td>NaN</td>\n",
       "      <td>United Kingdom</td>\n",
       "    </tr>\n",
       "    <tr>\n",
       "      <th>536981</th>\n",
       "      <td>581234</td>\n",
       "      <td>72817</td>\n",
       "      <td>NaN</td>\n",
       "      <td>27</td>\n",
       "      <td>2011-12-08 10:33:00</td>\n",
       "      <td>0.0</td>\n",
       "      <td>NaN</td>\n",
       "      <td>United Kingdom</td>\n",
       "    </tr>\n",
       "    <tr>\n",
       "      <th>538554</th>\n",
       "      <td>581408</td>\n",
       "      <td>85175</td>\n",
       "      <td>NaN</td>\n",
       "      <td>20</td>\n",
       "      <td>2011-12-08 14:06:00</td>\n",
       "      <td>0.0</td>\n",
       "      <td>NaN</td>\n",
       "      <td>United Kingdom</td>\n",
       "    </tr>\n",
       "  </tbody>\n",
       "</table>\n",
       "<p>1454 rows × 8 columns</p>\n",
       "</div>"
      ],
      "text/plain": [
       "       InvoiceNo StockCode Description  Quantity         InvoiceDate  \\\n",
       "622       536414     22139         NaN        56 2010-12-01 11:52:00   \n",
       "1970      536545     21134         NaN         1 2010-12-01 14:32:00   \n",
       "1971      536546     22145         NaN         1 2010-12-01 14:33:00   \n",
       "1972      536547     37509         NaN         1 2010-12-01 14:33:00   \n",
       "1987      536549    85226A         NaN         1 2010-12-01 14:34:00   \n",
       "...          ...       ...         ...       ...                 ...   \n",
       "535322    581199     84581         NaN        -2 2011-12-07 18:26:00   \n",
       "535326    581203     23406         NaN        15 2011-12-07 18:31:00   \n",
       "535332    581209     21620         NaN         6 2011-12-07 18:35:00   \n",
       "536981    581234     72817         NaN        27 2011-12-08 10:33:00   \n",
       "538554    581408     85175         NaN        20 2011-12-08 14:06:00   \n",
       "\n",
       "        UnitPrice  CustomerID         Country  \n",
       "622           0.0         NaN  United Kingdom  \n",
       "1970          0.0         NaN  United Kingdom  \n",
       "1971          0.0         NaN  United Kingdom  \n",
       "1972          0.0         NaN  United Kingdom  \n",
       "1987          0.0         NaN  United Kingdom  \n",
       "...           ...         ...             ...  \n",
       "535322        0.0         NaN  United Kingdom  \n",
       "535326        0.0         NaN  United Kingdom  \n",
       "535332        0.0         NaN  United Kingdom  \n",
       "536981        0.0         NaN  United Kingdom  \n",
       "538554        0.0         NaN  United Kingdom  \n",
       "\n",
       "[1454 rows x 8 columns]"
      ]
     },
     "execution_count": 5,
     "metadata": {},
     "output_type": "execute_result"
    }
   ],
   "source": [
    "df.loc[df.Description.isna(),:]"
   ]
  },
  {
   "cell_type": "markdown",
   "id": "36af8dff-714b-4336-b4d4-6b7898e73d2e",
   "metadata": {},
   "source": [
    "we have null description values which is a problem; we mainly need InvoiceNo and Description. Let's see if we can use StockCode to fill out null descriptions"
   ]
  },
  {
   "cell_type": "code",
   "execution_count": 6,
   "id": "829ef195-4ed8-4437-b3a3-206107e4916f",
   "metadata": {},
   "outputs": [
    {
     "data": {
      "text/html": [
       "<div>\n",
       "<style scoped>\n",
       "    .dataframe tbody tr th:only-of-type {\n",
       "        vertical-align: middle;\n",
       "    }\n",
       "\n",
       "    .dataframe tbody tr th {\n",
       "        vertical-align: top;\n",
       "    }\n",
       "\n",
       "    .dataframe thead th {\n",
       "        text-align: right;\n",
       "    }\n",
       "</style>\n",
       "<table border=\"1\" class=\"dataframe\">\n",
       "  <thead>\n",
       "    <tr style=\"text-align: right;\">\n",
       "      <th></th>\n",
       "      <th>InvoiceNo</th>\n",
       "      <th>StockCode</th>\n",
       "      <th>Description</th>\n",
       "      <th>Quantity</th>\n",
       "      <th>InvoiceDate</th>\n",
       "      <th>UnitPrice</th>\n",
       "      <th>CustomerID</th>\n",
       "      <th>Country</th>\n",
       "    </tr>\n",
       "  </thead>\n",
       "  <tbody>\n",
       "    <tr>\n",
       "      <th>1514</th>\n",
       "      <td>536544</td>\n",
       "      <td>22134</td>\n",
       "      <td>LADLE LOVE HEART RED</td>\n",
       "      <td>1</td>\n",
       "      <td>2010-12-01 14:32:00</td>\n",
       "      <td>0.85</td>\n",
       "      <td>NaN</td>\n",
       "      <td>United Kingdom</td>\n",
       "    </tr>\n",
       "    <tr>\n",
       "      <th>2655</th>\n",
       "      <td>536592</td>\n",
       "      <td>22134</td>\n",
       "      <td>LADLE LOVE HEART RED</td>\n",
       "      <td>4</td>\n",
       "      <td>2010-12-01 17:06:00</td>\n",
       "      <td>0.85</td>\n",
       "      <td>NaN</td>\n",
       "      <td>United Kingdom</td>\n",
       "    </tr>\n",
       "    <tr>\n",
       "      <th>9824</th>\n",
       "      <td>537219</td>\n",
       "      <td>22134</td>\n",
       "      <td>LADLE LOVE HEART RED</td>\n",
       "      <td>6</td>\n",
       "      <td>2010-12-05 15:47:00</td>\n",
       "      <td>0.42</td>\n",
       "      <td>14081.0</td>\n",
       "      <td>United Kingdom</td>\n",
       "    </tr>\n",
       "    <tr>\n",
       "      <th>10433</th>\n",
       "      <td>537237</td>\n",
       "      <td>22134</td>\n",
       "      <td>LADLE LOVE HEART RED</td>\n",
       "      <td>2</td>\n",
       "      <td>2010-12-06 09:58:00</td>\n",
       "      <td>0.85</td>\n",
       "      <td>NaN</td>\n",
       "      <td>United Kingdom</td>\n",
       "    </tr>\n",
       "    <tr>\n",
       "      <th>11197</th>\n",
       "      <td>537240</td>\n",
       "      <td>22134</td>\n",
       "      <td>LADLE LOVE HEART RED</td>\n",
       "      <td>1</td>\n",
       "      <td>2010-12-06 10:08:00</td>\n",
       "      <td>0.85</td>\n",
       "      <td>NaN</td>\n",
       "      <td>United Kingdom</td>\n",
       "    </tr>\n",
       "    <tr>\n",
       "      <th>...</th>\n",
       "      <td>...</td>\n",
       "      <td>...</td>\n",
       "      <td>...</td>\n",
       "      <td>...</td>\n",
       "      <td>...</td>\n",
       "      <td>...</td>\n",
       "      <td>...</td>\n",
       "      <td>...</td>\n",
       "    </tr>\n",
       "    <tr>\n",
       "      <th>529684</th>\n",
       "      <td>580744</td>\n",
       "      <td>22134</td>\n",
       "      <td>MINI LADLE LOVE HEART RED</td>\n",
       "      <td>288</td>\n",
       "      <td>2011-12-06 09:31:00</td>\n",
       "      <td>0.36</td>\n",
       "      <td>13694.0</td>\n",
       "      <td>United Kingdom</td>\n",
       "    </tr>\n",
       "    <tr>\n",
       "      <th>532271</th>\n",
       "      <td>580983</td>\n",
       "      <td>22134</td>\n",
       "      <td>MINI LADLE LOVE HEART RED</td>\n",
       "      <td>1</td>\n",
       "      <td>2011-12-06 16:26:00</td>\n",
       "      <td>0.83</td>\n",
       "      <td>NaN</td>\n",
       "      <td>United Kingdom</td>\n",
       "    </tr>\n",
       "    <tr>\n",
       "      <th>535551</th>\n",
       "      <td>581217</td>\n",
       "      <td>22134</td>\n",
       "      <td>MINI LADLE LOVE HEART RED</td>\n",
       "      <td>1</td>\n",
       "      <td>2011-12-08 09:20:00</td>\n",
       "      <td>0.83</td>\n",
       "      <td>NaN</td>\n",
       "      <td>United Kingdom</td>\n",
       "    </tr>\n",
       "    <tr>\n",
       "      <th>539529</th>\n",
       "      <td>581439</td>\n",
       "      <td>22134</td>\n",
       "      <td>MINI LADLE LOVE HEART RED</td>\n",
       "      <td>1</td>\n",
       "      <td>2011-12-08 16:30:00</td>\n",
       "      <td>0.83</td>\n",
       "      <td>NaN</td>\n",
       "      <td>United Kingdom</td>\n",
       "    </tr>\n",
       "    <tr>\n",
       "      <th>540746</th>\n",
       "      <td>581492</td>\n",
       "      <td>22134</td>\n",
       "      <td>MINI LADLE LOVE HEART RED</td>\n",
       "      <td>1</td>\n",
       "      <td>2011-12-09 10:03:00</td>\n",
       "      <td>0.83</td>\n",
       "      <td>NaN</td>\n",
       "      <td>United Kingdom</td>\n",
       "    </tr>\n",
       "  </tbody>\n",
       "</table>\n",
       "<p>164 rows × 8 columns</p>\n",
       "</div>"
      ],
      "text/plain": [
       "       InvoiceNo StockCode                 Description  Quantity  \\\n",
       "1514      536544     22134       LADLE LOVE HEART RED          1   \n",
       "2655      536592     22134       LADLE LOVE HEART RED          4   \n",
       "9824      537219     22134       LADLE LOVE HEART RED          6   \n",
       "10433     537237     22134       LADLE LOVE HEART RED          2   \n",
       "11197     537240     22134       LADLE LOVE HEART RED          1   \n",
       "...          ...       ...                         ...       ...   \n",
       "529684    580744     22134  MINI LADLE LOVE HEART RED        288   \n",
       "532271    580983     22134  MINI LADLE LOVE HEART RED          1   \n",
       "535551    581217     22134  MINI LADLE LOVE HEART RED          1   \n",
       "539529    581439     22134  MINI LADLE LOVE HEART RED          1   \n",
       "540746    581492     22134  MINI LADLE LOVE HEART RED          1   \n",
       "\n",
       "               InvoiceDate  UnitPrice  CustomerID         Country  \n",
       "1514   2010-12-01 14:32:00       0.85         NaN  United Kingdom  \n",
       "2655   2010-12-01 17:06:00       0.85         NaN  United Kingdom  \n",
       "9824   2010-12-05 15:47:00       0.42     14081.0  United Kingdom  \n",
       "10433  2010-12-06 09:58:00       0.85         NaN  United Kingdom  \n",
       "11197  2010-12-06 10:08:00       0.85         NaN  United Kingdom  \n",
       "...                    ...        ...         ...             ...  \n",
       "529684 2011-12-06 09:31:00       0.36     13694.0  United Kingdom  \n",
       "532271 2011-12-06 16:26:00       0.83         NaN  United Kingdom  \n",
       "535551 2011-12-08 09:20:00       0.83         NaN  United Kingdom  \n",
       "539529 2011-12-08 16:30:00       0.83         NaN  United Kingdom  \n",
       "540746 2011-12-09 10:03:00       0.83         NaN  United Kingdom  \n",
       "\n",
       "[164 rows x 8 columns]"
      ]
     },
     "execution_count": 6,
     "metadata": {},
     "output_type": "execute_result"
    }
   ],
   "source": [
    "df.loc[df.StockCode == 22134,:]"
   ]
  },
  {
   "cell_type": "markdown",
   "id": "1d467dcd-c2f0-48f3-a93e-86d12239b407",
   "metadata": {},
   "source": [
    "Since one stock code can have multiple descriptions (for similar products), let's take the most common description for each stock code to fill out missing descriptions"
   ]
  },
  {
   "cell_type": "code",
   "execution_count": 7,
   "id": "8307ae92-0630-4e56-ad35-f60831e0305e",
   "metadata": {},
   "outputs": [
    {
     "data": {
      "text/plain": [
       "array([22139, 21134, 22145, 37509, '85226A'], dtype=object)"
      ]
     },
     "execution_count": 7,
     "metadata": {},
     "output_type": "execute_result"
    }
   ],
   "source": [
    "# get stockcodes for rows with missing descriptions\n",
    "codes = pd.unique(df.loc[df.Description.isna(),:].StockCode)\n",
    "codes[:5]"
   ]
  },
  {
   "cell_type": "code",
   "execution_count": 8,
   "id": "2c940575-21eb-4c0b-80b7-5e01a0399e22",
   "metadata": {
    "scrolled": true
   },
   "outputs": [],
   "source": [
    "# get most common description for each stock code to fill out missing descriptions\n",
    "code_desc = {}\n",
    "for code in codes:\n",
    "    df_temp = df.loc[df.StockCode == code, :]\n",
    "    counts = df_temp.Description.value_counts()\n",
    "    # print(code, counts.index[0])\n",
    "    if counts.shape == (0,): # for cases when NULL is the only description available for a stock code\n",
    "        continue\n",
    "    code_desc.update(\n",
    "        {\n",
    "            code: counts.index[0]\n",
    "        }\n",
    "    )\n"
   ]
  },
  {
   "cell_type": "code",
   "execution_count": 9,
   "id": "10a16d5d-1a71-4831-a7fa-7d0049123724",
   "metadata": {},
   "outputs": [
    {
     "data": {
      "text/plain": [
       "'RETROSPOT TEA SET CERAMIC 11 PC '"
      ]
     },
     "execution_count": 9,
     "metadata": {},
     "output_type": "execute_result"
    }
   ],
   "source": [
    "code_desc[codes[0]]"
   ]
  },
  {
   "cell_type": "code",
   "execution_count": 10,
   "id": "0ae5bbcc-3a4a-497a-b148-606123090e01",
   "metadata": {},
   "outputs": [],
   "source": [
    "keys = code_desc.keys()\n",
    "for code in keys:\n",
    "    df.loc[(df.StockCode == code) & (df.Description.isna()), \"Description\"] = code_desc[code]"
   ]
  },
  {
   "cell_type": "code",
   "execution_count": 11,
   "id": "99107097-fb16-4e2d-bf8e-156ca1073cfa",
   "metadata": {},
   "outputs": [
    {
     "name": "stdout",
     "output_type": "stream",
     "text": [
      "<class 'pandas.core.frame.DataFrame'>\n",
      "RangeIndex: 541909 entries, 0 to 541908\n",
      "Data columns (total 8 columns):\n",
      " #   Column       Non-Null Count   Dtype         \n",
      "---  ------       --------------   -----         \n",
      " 0   InvoiceNo    541909 non-null  object        \n",
      " 1   StockCode    541909 non-null  object        \n",
      " 2   Description  541797 non-null  object        \n",
      " 3   Quantity     541909 non-null  int64         \n",
      " 4   InvoiceDate  541909 non-null  datetime64[ns]\n",
      " 5   UnitPrice    541909 non-null  float64       \n",
      " 6   CustomerID   406829 non-null  float64       \n",
      " 7   Country      541909 non-null  object        \n",
      "dtypes: datetime64[ns](1), float64(2), int64(1), object(4)\n",
      "memory usage: 33.1+ MB\n"
     ]
    }
   ],
   "source": [
    "df.info()"
   ]
  },
  {
   "cell_type": "markdown",
   "id": "95dd6c69-0ff5-49ef-a840-c533dc91294d",
   "metadata": {},
   "source": [
    "the rest of the missing descriptions are not associated with stock codes that we can get info from; let's drop them"
   ]
  },
  {
   "cell_type": "code",
   "execution_count": 12,
   "id": "9fa0f5ce-a5da-4cfd-99ba-62630336377d",
   "metadata": {},
   "outputs": [
    {
     "name": "stdout",
     "output_type": "stream",
     "text": [
      "<class 'pandas.core.frame.DataFrame'>\n",
      "Index: 541797 entries, 0 to 541908\n",
      "Data columns (total 8 columns):\n",
      " #   Column       Non-Null Count   Dtype         \n",
      "---  ------       --------------   -----         \n",
      " 0   InvoiceNo    541797 non-null  object        \n",
      " 1   StockCode    541797 non-null  object        \n",
      " 2   Description  541797 non-null  object        \n",
      " 3   Quantity     541797 non-null  int64         \n",
      " 4   InvoiceDate  541797 non-null  datetime64[ns]\n",
      " 5   UnitPrice    541797 non-null  float64       \n",
      " 6   CustomerID   406829 non-null  float64       \n",
      " 7   Country      541797 non-null  object        \n",
      "dtypes: datetime64[ns](1), float64(2), int64(1), object(4)\n",
      "memory usage: 37.2+ MB\n"
     ]
    }
   ],
   "source": [
    "df2 = df.dropna(subset=[\"Description\"])\n",
    "df2.info()"
   ]
  },
  {
   "cell_type": "markdown",
   "id": "1bbf7c4e-7205-4160-9537-492d3145fa51",
   "metadata": {},
   "source": [
    "Now we have as many non-null rows as possible; the next step is to look for any irregularities in InvoiceNo and Description, as those are the 2 main columns we will need for association-rule mining (ARM)."
   ]
  },
  {
   "cell_type": "code",
   "execution_count": 13,
   "id": "d32fa566-4e26-4cbc-a3bc-b5e377c25f48",
   "metadata": {},
   "outputs": [
    {
     "data": {
      "text/plain": [
       "InvoiceNo           0\n",
       "StockCode           0\n",
       "Description         0\n",
       "Quantity            0\n",
       "InvoiceDate         0\n",
       "UnitPrice           0\n",
       "CustomerID     134968\n",
       "Country             0\n",
       "dtype: int64"
      ]
     },
     "execution_count": 13,
     "metadata": {},
     "output_type": "execute_result"
    }
   ],
   "source": [
    "df2.isna().sum()"
   ]
  },
  {
   "cell_type": "code",
   "execution_count": 14,
   "id": "45159d49-b898-47c2-9f7e-d6568b88f5fa",
   "metadata": {},
   "outputs": [],
   "source": [
    "# remove non-positive Quantity values\n",
    "df3 = df2.loc[df2.Quantity > 0, :]"
   ]
  },
  {
   "cell_type": "code",
   "execution_count": 15,
   "id": "12b6f478-a936-4f4a-816a-4c5c9606320e",
   "metadata": {},
   "outputs": [
    {
     "data": {
      "text/plain": [
       "array([False,  True])"
      ]
     },
     "execution_count": 15,
     "metadata": {},
     "output_type": "execute_result"
    }
   ],
   "source": [
    "# all Description values seem to be uppercase strings, so look for any lowercase\n",
    "regex = df3.Description.astype(str).str.contains(r'[a-z]')\n",
    "np.unique(regex)"
   ]
  },
  {
   "cell_type": "code",
   "execution_count": 16,
   "id": "9dc42363-9f46-4832-9bc7-8f32f84f59b7",
   "metadata": {},
   "outputs": [
    {
     "data": {
      "text/html": [
       "<div>\n",
       "<style scoped>\n",
       "    .dataframe tbody tr th:only-of-type {\n",
       "        vertical-align: middle;\n",
       "    }\n",
       "\n",
       "    .dataframe tbody tr th {\n",
       "        vertical-align: top;\n",
       "    }\n",
       "\n",
       "    .dataframe thead th {\n",
       "        text-align: right;\n",
       "    }\n",
       "</style>\n",
       "<table border=\"1\" class=\"dataframe\">\n",
       "  <thead>\n",
       "    <tr style=\"text-align: right;\">\n",
       "      <th></th>\n",
       "      <th>InvoiceNo</th>\n",
       "      <th>StockCode</th>\n",
       "      <th>Description</th>\n",
       "      <th>Quantity</th>\n",
       "      <th>InvoiceDate</th>\n",
       "      <th>UnitPrice</th>\n",
       "      <th>CustomerID</th>\n",
       "      <th>Country</th>\n",
       "    </tr>\n",
       "  </thead>\n",
       "  <tbody>\n",
       "    <tr>\n",
       "      <th>482</th>\n",
       "      <td>536408</td>\n",
       "      <td>21705</td>\n",
       "      <td>BAG 500g SWIRLY MARBLES</td>\n",
       "      <td>12</td>\n",
       "      <td>2010-12-01 11:41:00</td>\n",
       "      <td>1.65</td>\n",
       "      <td>14307.0</td>\n",
       "      <td>United Kingdom</td>\n",
       "    </tr>\n",
       "    <tr>\n",
       "      <th>918</th>\n",
       "      <td>536500</td>\n",
       "      <td>46000M</td>\n",
       "      <td>POLYESTER FILLER PAD 45x45cm</td>\n",
       "      <td>10</td>\n",
       "      <td>2010-12-01 12:35:00</td>\n",
       "      <td>1.55</td>\n",
       "      <td>17377.0</td>\n",
       "      <td>United Kingdom</td>\n",
       "    </tr>\n",
       "    <tr>\n",
       "      <th>1961</th>\n",
       "      <td>536544</td>\n",
       "      <td>21703</td>\n",
       "      <td>BAG 125g SWIRLY MARBLES</td>\n",
       "      <td>1</td>\n",
       "      <td>2010-12-01 14:32:00</td>\n",
       "      <td>0.85</td>\n",
       "      <td>NaN</td>\n",
       "      <td>United Kingdom</td>\n",
       "    </tr>\n",
       "    <tr>\n",
       "      <th>1962</th>\n",
       "      <td>536544</td>\n",
       "      <td>21704</td>\n",
       "      <td>BAG 250g SWIRLY MARBLES</td>\n",
       "      <td>1</td>\n",
       "      <td>2010-12-01 14:32:00</td>\n",
       "      <td>1.66</td>\n",
       "      <td>NaN</td>\n",
       "      <td>United Kingdom</td>\n",
       "    </tr>\n",
       "    <tr>\n",
       "      <th>2038</th>\n",
       "      <td>536557</td>\n",
       "      <td>46000R</td>\n",
       "      <td>POLYESTER FILLER PAD 45x30cm</td>\n",
       "      <td>2</td>\n",
       "      <td>2010-12-01 14:41:00</td>\n",
       "      <td>1.45</td>\n",
       "      <td>17841.0</td>\n",
       "      <td>United Kingdom</td>\n",
       "    </tr>\n",
       "    <tr>\n",
       "      <th>...</th>\n",
       "      <td>...</td>\n",
       "      <td>...</td>\n",
       "      <td>...</td>\n",
       "      <td>...</td>\n",
       "      <td>...</td>\n",
       "      <td>...</td>\n",
       "      <td>...</td>\n",
       "      <td>...</td>\n",
       "    </tr>\n",
       "    <tr>\n",
       "      <th>540653</th>\n",
       "      <td>581492</td>\n",
       "      <td>21703</td>\n",
       "      <td>BAG 125g SWIRLY MARBLES</td>\n",
       "      <td>1</td>\n",
       "      <td>2011-12-09 10:03:00</td>\n",
       "      <td>0.83</td>\n",
       "      <td>NaN</td>\n",
       "      <td>United Kingdom</td>\n",
       "    </tr>\n",
       "    <tr>\n",
       "      <th>540654</th>\n",
       "      <td>581492</td>\n",
       "      <td>21704</td>\n",
       "      <td>BAG 250g SWIRLY MARBLES</td>\n",
       "      <td>1</td>\n",
       "      <td>2011-12-09 10:03:00</td>\n",
       "      <td>1.63</td>\n",
       "      <td>NaN</td>\n",
       "      <td>United Kingdom</td>\n",
       "    </tr>\n",
       "    <tr>\n",
       "      <th>541054</th>\n",
       "      <td>581492</td>\n",
       "      <td>22965</td>\n",
       "      <td>3 TRADITIONAl BISCUIT CUTTERS  SET</td>\n",
       "      <td>1</td>\n",
       "      <td>2011-12-09 10:03:00</td>\n",
       "      <td>4.13</td>\n",
       "      <td>NaN</td>\n",
       "      <td>United Kingdom</td>\n",
       "    </tr>\n",
       "    <tr>\n",
       "      <th>541612</th>\n",
       "      <td>581514</td>\n",
       "      <td>21705</td>\n",
       "      <td>BAG 500g SWIRLY MARBLES</td>\n",
       "      <td>84</td>\n",
       "      <td>2011-12-09 11:20:00</td>\n",
       "      <td>0.39</td>\n",
       "      <td>17754.0</td>\n",
       "      <td>United Kingdom</td>\n",
       "    </tr>\n",
       "    <tr>\n",
       "      <th>541615</th>\n",
       "      <td>581516</td>\n",
       "      <td>21705</td>\n",
       "      <td>BAG 500g SWIRLY MARBLES</td>\n",
       "      <td>24</td>\n",
       "      <td>2011-12-09 11:26:00</td>\n",
       "      <td>0.39</td>\n",
       "      <td>14422.0</td>\n",
       "      <td>United Kingdom</td>\n",
       "    </tr>\n",
       "  </tbody>\n",
       "</table>\n",
       "<p>2240 rows × 8 columns</p>\n",
       "</div>"
      ],
      "text/plain": [
       "       InvoiceNo StockCode                         Description  Quantity  \\\n",
       "482       536408     21705             BAG 500g SWIRLY MARBLES        12   \n",
       "918       536500    46000M        POLYESTER FILLER PAD 45x45cm        10   \n",
       "1961      536544     21703             BAG 125g SWIRLY MARBLES         1   \n",
       "1962      536544     21704             BAG 250g SWIRLY MARBLES         1   \n",
       "2038      536557    46000R        POLYESTER FILLER PAD 45x30cm         2   \n",
       "...          ...       ...                                 ...       ...   \n",
       "540653    581492     21703             BAG 125g SWIRLY MARBLES         1   \n",
       "540654    581492     21704             BAG 250g SWIRLY MARBLES         1   \n",
       "541054    581492     22965  3 TRADITIONAl BISCUIT CUTTERS  SET         1   \n",
       "541612    581514     21705             BAG 500g SWIRLY MARBLES        84   \n",
       "541615    581516     21705             BAG 500g SWIRLY MARBLES        24   \n",
       "\n",
       "               InvoiceDate  UnitPrice  CustomerID         Country  \n",
       "482    2010-12-01 11:41:00       1.65     14307.0  United Kingdom  \n",
       "918    2010-12-01 12:35:00       1.55     17377.0  United Kingdom  \n",
       "1961   2010-12-01 14:32:00       0.85         NaN  United Kingdom  \n",
       "1962   2010-12-01 14:32:00       1.66         NaN  United Kingdom  \n",
       "2038   2010-12-01 14:41:00       1.45     17841.0  United Kingdom  \n",
       "...                    ...        ...         ...             ...  \n",
       "540653 2011-12-09 10:03:00       0.83         NaN  United Kingdom  \n",
       "540654 2011-12-09 10:03:00       1.63         NaN  United Kingdom  \n",
       "541054 2011-12-09 10:03:00       4.13         NaN  United Kingdom  \n",
       "541612 2011-12-09 11:20:00       0.39     17754.0  United Kingdom  \n",
       "541615 2011-12-09 11:26:00       0.39     14422.0  United Kingdom  \n",
       "\n",
       "[2240 rows x 8 columns]"
      ]
     },
     "execution_count": 16,
     "metadata": {},
     "output_type": "execute_result"
    }
   ],
   "source": [
    "df3[regex]"
   ]
  },
  {
   "cell_type": "code",
   "execution_count": 17,
   "id": "697aae35-4203-4ddd-9582-1ef230e9bb4f",
   "metadata": {},
   "outputs": [
    {
     "data": {
      "text/plain": [
       "array([False,  True])"
      ]
     },
     "execution_count": 17,
     "metadata": {},
     "output_type": "execute_result"
    }
   ],
   "source": [
    "regex = df3.Description.astype(str).str.contains(r'[a-z]{3,}') # additional parameter to exclude measurement units (g, cm, etc.)\n",
    "np.unique(regex)"
   ]
  },
  {
   "cell_type": "code",
   "execution_count": 18,
   "id": "695247e7-88c9-4c6e-958e-dc24216057e6",
   "metadata": {},
   "outputs": [
    {
     "data": {
      "text/plain": [
       "(638, 8)"
      ]
     },
     "execution_count": 18,
     "metadata": {},
     "output_type": "execute_result"
    }
   ],
   "source": [
    "df3[regex].shape"
   ]
  },
  {
   "cell_type": "markdown",
   "id": "25c225fc-4696-45ea-b7d4-3caf495ae7c9",
   "metadata": {},
   "source": [
    "If we exclude all strings with more than 3 lowercase letters (1 or 2 are used for measurements) then we would lose ~700 rows."
   ]
  },
  {
   "cell_type": "code",
   "execution_count": 19,
   "id": "cf8e7d39-83ba-42f1-8f4b-9aec122be9f2",
   "metadata": {
    "scrolled": true
   },
   "outputs": [
    {
     "data": {
      "text/plain": [
       "Description\n",
       "Manual               328\n",
       "Next Day Carriage     80\n",
       "check                 39\n",
       "found                 25\n",
       "adjustment            14\n",
       "                    ... \n",
       "thrown away            1\n",
       "found box              1\n",
       "damaged                1\n",
       "Found in w/hse         1\n",
       "check?                 1\n",
       "Name: count, Length: 64, dtype: int64"
      ]
     },
     "execution_count": 19,
     "metadata": {},
     "output_type": "execute_result"
    }
   ],
   "source": [
    "df3[regex].Description.value_counts()"
   ]
  },
  {
   "cell_type": "markdown",
   "id": "7b8247f1-adb4-4828-8199-87153fa852e0",
   "metadata": {},
   "source": [
    "Inspecting the suspected outlier values, nearly half of them are just 'Manual'. The source website did not provide any information as to what that might mean, and it isn't a product name. The top 5 suspected outliers account for 486/638 total suspected outliers, which only leaves 152 rows. I think it is quite safe to remove all suspected outliers, since removing ~700 values, more than half of which we know for sure are definite outliers will not in any significant way impact any models."
   ]
  },
  {
   "cell_type": "code",
   "execution_count": 20,
   "id": "524da6e3-2b70-492b-9bc7-bd62abefae91",
   "metadata": {},
   "outputs": [
    {
     "name": "stdout",
     "output_type": "stream",
     "text": [
      "<class 'pandas.core.frame.DataFrame'>\n",
      "Index: 530632 entries, 0 to 541908\n",
      "Data columns (total 8 columns):\n",
      " #   Column       Non-Null Count   Dtype         \n",
      "---  ------       --------------   -----         \n",
      " 0   InvoiceNo    530632 non-null  object        \n",
      " 1   StockCode    530632 non-null  object        \n",
      " 2   Description  530632 non-null  object        \n",
      " 3   Quantity     530632 non-null  int64         \n",
      " 4   InvoiceDate  530632 non-null  datetime64[ns]\n",
      " 5   UnitPrice    530632 non-null  float64       \n",
      " 6   CustomerID   397527 non-null  float64       \n",
      " 7   Country      530632 non-null  object        \n",
      "dtypes: datetime64[ns](1), float64(2), int64(1), object(4)\n",
      "memory usage: 36.4+ MB\n"
     ]
    }
   ],
   "source": [
    "# remove outliers\n",
    "df4 = df3[~regex]\n",
    "df4.info()"
   ]
  },
  {
   "cell_type": "markdown",
   "id": "46a78bd3-c4ac-484a-ad99-c999f5e9fdc7",
   "metadata": {},
   "source": [
    "Now, we inspect InvoiceNo, which seems to be simply numbers, so let's look for any entries that have non-numerical characters."
   ]
  },
  {
   "cell_type": "code",
   "execution_count": 21,
   "id": "a796455e-1cca-49a7-9931-22547f26e11d",
   "metadata": {},
   "outputs": [
    {
     "data": {
      "text/plain": [
       "array([False])"
      ]
     },
     "execution_count": 21,
     "metadata": {},
     "output_type": "execute_result"
    }
   ],
   "source": [
    "# look for outliers in InvoiceNo\n",
    "regex = df4.InvoiceNo.astype('str').str.contains(r'[^0-9]')\n",
    "np.unique(regex)"
   ]
  },
  {
   "cell_type": "markdown",
   "id": "b3bedce2-853e-4c1a-87e4-a75f6abba581",
   "metadata": {},
   "source": [
    "It seems like there are no irregularities within the InvoiceNo column."
   ]
  },
  {
   "cell_type": "markdown",
   "id": "7e8bd87d-d71c-44e4-bbfa-24b2803446b1",
   "metadata": {},
   "source": [
    "We are now left with only purchases, we have filled in all missing product descriptions as possible, have removed evident outliers from the 2 most important columns (InvoiceNo, Description); the dataset should now be ready for ARM."
   ]
  },
  {
   "cell_type": "code",
   "execution_count": null,
   "id": "677f8457-6841-4657-8855-ae0ad4d652c6",
   "metadata": {},
   "outputs": [],
   "source": []
  }
 ],
 "metadata": {
  "kernelspec": {
   "display_name": "Python (tfgpu2)",
   "language": "python",
   "name": "tfgpu2"
  },
  "language_info": {
   "codemirror_mode": {
    "name": "ipython",
    "version": 3
   },
   "file_extension": ".py",
   "mimetype": "text/x-python",
   "name": "python",
   "nbconvert_exporter": "python",
   "pygments_lexer": "ipython3",
   "version": "3.12.8"
  }
 },
 "nbformat": 4,
 "nbformat_minor": 5
}
